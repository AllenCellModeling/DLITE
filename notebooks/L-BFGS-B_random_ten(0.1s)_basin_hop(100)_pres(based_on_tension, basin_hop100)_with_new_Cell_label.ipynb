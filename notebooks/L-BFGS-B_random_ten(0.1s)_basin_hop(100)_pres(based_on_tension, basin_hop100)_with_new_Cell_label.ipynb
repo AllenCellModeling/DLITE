{
 "cells": [
  {
   "cell_type": "markdown",
   "metadata": {},
   "source": [
    "# Import packages"
   ]
  },
  {
   "cell_type": "code",
   "execution_count": 1,
   "metadata": {},
   "outputs": [],
   "source": [
    "import sys\n",
    "sys.path.insert(0, '../cell_soap/')\n",
    "from cell_describe import node, edge, cell, colony, data, manual_tracing, manual_tracing_multiple"
   ]
  },
  {
   "cell_type": "markdown",
   "metadata": {},
   "source": [
    "# Call the class -> manual_tracing_multiple"
   ]
  },
  {
   "cell_type": "code",
   "execution_count": 2,
   "metadata": {},
   "outputs": [
    {
     "name": "stdout",
     "output_type": "stream",
     "text": [
      "[1, 2, 3, 4, 5, 6, 7, 8, 9, 10, 11, 12, 13, 14, 15, 16, 17, 18, 19, 20, 21, 22, 23, 24, 25, 26, 27, 28, 29, 30]\n"
     ]
    }
   ],
   "source": [
    "numbers = []\n",
    "# max_num defines number of colonies to look at\n",
    "max_num = 31\n",
    "for i in range(max_num):\n",
    "    numbers.append(i)\n",
    "numbers.pop(0)\n",
    "print(numbers)\n",
    "\n",
    "test = manual_tracing_multiple(numbers)"
   ]
  },
  {
   "cell_type": "markdown",
   "metadata": {},
   "source": [
    "# Computation"
   ]
  },
  {
   "cell_type": "code",
   "execution_count": null,
   "metadata": {},
   "outputs": [
    {
     "name": "stdout",
     "output_type": "stream",
     "text": [
      "File 1 used a Cutoff value ------> 14\n",
      "Initial Tension guess is [0.33, 0.71, 0.43, 0.62, 0.79, 0.66, 0.03, 0.91, 0.32, 0.67, 0.96, 0.71, 0.01, 0.49, 0.63, 0.96, 0.03, 0.96, 0.84, 0.51, 0.02, 0.74, 0.97, 0.55, 0.43, 0.57, 0.41, 0.0, 0.81, 0.58, 1.01, 0.91, 0.7, 0.14, 0.59, 0.86, 0.65, 0.72, 0.13, 0.46, 0.19, 0.3, 0.11, 0.91, 0.98, 0.97, 0.82, 0.7, 0.93, 0.47, 0.49, 0.01, 0.01, 0.24, 0.91, 1.01, 0.94, 0.6, 0.26, 0.52, 0.21, 0.05, 0.37]\n",
      "Trying basin hopping\n",
      "basinhopping step 0: f 4.47822e-09\n",
      "basinhopping step 1: f 1.1817e-08 trial_f 1.1817e-08 accepted 1  lowest_f 4.47822e-09\n",
      "basinhopping step 2: f 3.30357e-08 trial_f 3.30357e-08 accepted 1  lowest_f 4.47822e-09\n",
      "basinhopping step 3: f 3.41277e-09 trial_f 3.41277e-09 accepted 1  lowest_f 3.41277e-09\n",
      "found new global minimum on step 3 with function value 3.41277e-09\n",
      "basinhopping step 4: f 5.95273e-08 trial_f 5.95273e-08 accepted 1  lowest_f 3.41277e-09\n",
      "basinhopping step 5: f 7.06034e-09 trial_f 7.06034e-09 accepted 1  lowest_f 3.41277e-09\n",
      "basinhopping step 6: f 5.23035e-08 trial_f 5.23035e-08 accepted 1  lowest_f 3.41277e-09\n",
      "basinhopping step 7: f 1.1919e-07 trial_f 1.1919e-07 accepted 1  lowest_f 3.41277e-09\n",
      "basinhopping step 8: f 8.37417e-09 trial_f 8.37417e-09 accepted 1  lowest_f 3.41277e-09\n",
      "basinhopping step 9: f 7.78001e-08 trial_f 7.78001e-08 accepted 1  lowest_f 3.41277e-09\n",
      "basinhopping step 10: f 3.38974e-08 trial_f 3.38974e-08 accepted 1  lowest_f 3.41277e-09\n",
      "basinhopping step 11: f 2.55382e-08 trial_f 2.55382e-08 accepted 1  lowest_f 3.41277e-09\n",
      "basinhopping step 12: f 1.26773e-08 trial_f 1.26773e-08 accepted 1  lowest_f 3.41277e-09\n",
      "basinhopping step 13: f 2.25143e-07 trial_f 2.25143e-07 accepted 1  lowest_f 3.41277e-09\n",
      "basinhopping step 14: f 3.87673e-08 trial_f 3.87673e-08 accepted 1  lowest_f 3.41277e-09\n",
      "basinhopping step 15: f 1.52876e-08 trial_f 1.52876e-08 accepted 1  lowest_f 3.41277e-09\n",
      "basinhopping step 16: f 4.85234e-08 trial_f 4.85234e-08 accepted 1  lowest_f 3.41277e-09\n",
      "basinhopping step 17: f 5.76748e-08 trial_f 5.76748e-08 accepted 1  lowest_f 3.41277e-09\n",
      "basinhopping step 18: f 2.17181e-08 trial_f 2.17181e-08 accepted 1  lowest_f 3.41277e-09\n",
      "basinhopping step 19: f 2.62937e-08 trial_f 2.62937e-08 accepted 1  lowest_f 3.41277e-09\n",
      "basinhopping step 20: f 1.50214e-08 trial_f 1.50214e-08 accepted 1  lowest_f 3.41277e-09\n",
      "basinhopping step 21: f 1.93546e-08 trial_f 1.93546e-08 accepted 1  lowest_f 3.41277e-09\n",
      "basinhopping step 22: f 2.98863e-08 trial_f 2.98863e-08 accepted 1  lowest_f 3.41277e-09\n"
     ]
    }
   ],
   "source": [
    "colonies = test.computation_based_on_prev(numbers, colonies = None, index = None, \n",
    "                                          old_dictionary = None, maxiter = 60*1000, maxfev = 60*1000)"
   ]
  },
  {
   "cell_type": "code",
   "execution_count": 3,
   "metadata": {},
   "outputs": [],
   "source": [
    "# Load file\n",
    "import pickle\n",
    "pkl_file = open('new_obj_basin_hopping_iter=150_ten=0.2_pres=0.001.pkl','rb')\n",
    "colonies = pickle.load(pkl_file)"
   ]
  },
  {
   "cell_type": "code",
   "execution_count": 5,
   "metadata": {},
   "outputs": [],
   "source": [
    "# # Save file\n",
    "# import pickle\n",
    "# # Saving the objects:\n",
    "# with open('new_obj_basin_hopping_iter=150_ten=0.2_pres=0.001.pkl', 'wb') as f:  # Python 3: open(..., 'wb')\n",
    "#     pickle.dump(colonies, f)"
   ]
  },
  {
   "cell_type": "code",
   "execution_count": 4,
   "metadata": {},
   "outputs": [
    {
     "data": {
      "image/png": "[encoded data removed]",
      "text/plain": [
       "<Figure size 576x360 with 1 Axes>"
      ]
     },
     "metadata": {},
     "output_type": "display_data"
    }
   ],
   "source": [
    "# Make vidoes of tension, pressure and both together\n",
    "\n",
    "import matplotlib.pyplot as plt\n",
    "import pylab\n",
    "\n",
    "# fig, ax = plt.subplots(1,1, figsize = (8,5))\n",
    "# test.plot_tensions(fig, ax, colonies)\n",
    "\n",
    "# fig, ax = plt.subplots(1,1, figsize = (8,5))\n",
    "# test.plot_pressures(fig, ax, colonies)\n",
    "\n",
    "fig, ax = plt.subplots(1,1, figsize = (8,5))\n",
    "test.plot_both_tension_pressure(fig, ax, colonies)"
   ]
  },
  {
   "cell_type": "code",
   "execution_count": 6,
   "metadata": {},
   "outputs": [
    {
     "name": "stdout",
     "output_type": "stream",
     "text": [
      "{33, 2, 3, 34, 39, 42, 47, 19, 21, 24, 26}\n"
     ]
    }
   ],
   "source": [
    "# Check repeating labels in a max_num of colonies\n",
    "max_num = 32\n",
    "labels = test.check_repeat_labels(colonies, max_num)\n",
    "print(labels)"
   ]
  },
  {
   "cell_type": "code",
   "execution_count": 18,
   "metadata": {},
   "outputs": [],
   "source": [
    "# Plot single edges\n",
    "\n",
    "node_label = 21\n",
    "edge_label = 2\n",
    "frames = [i for i in colonies.keys()]\n",
    "fig, (ax, ax1) = plt.subplots(1,2,figsize = (14,6))\n",
    "test.plot_single_edges(fig, ax, ax1, colonies, node_label, edge_label)"
   ]
  },
  {
   "cell_type": "code",
   "execution_count": 9,
   "metadata": {},
   "outputs": [],
   "source": [
    "# PLot single cells\n",
    "import matplotlib.pyplot as plt\n",
    "\n",
    "cell_label = 6\n",
    "fig, (ax, ax1) = plt.subplots(1,2,figsize = (14,6))\n",
    "test.plot_single_cells(fig, ax, ax1, colonies, cell_label)"
   ]
  },
  {
   "cell_type": "code",
   "execution_count": 8,
   "metadata": {},
   "outputs": [
    {
     "data": {
      "text/plain": [
       "{'1': <cell_describe.colony at 0x10c056748>,\n",
       " '2': <cell_describe.colony at 0x10c302940>,\n",
       " '3': <cell_describe.colony at 0x10c3649b0>,\n",
       " '4': <cell_describe.colony at 0x10c3bad68>,\n",
       " '5': <cell_describe.colony at 0x10c41cb00>,\n",
       " '6': <cell_describe.colony at 0x10c4794a8>,\n",
       " '7': <cell_describe.colony at 0x10c4d8e80>,\n",
       " '8': <cell_describe.colony at 0x10c578748>,\n",
       " '9': <cell_describe.colony at 0x10c5d9f60>,\n",
       " '10': <cell_describe.colony at 0x10c631438>,\n",
       " '11': <cell_describe.colony at 0x10c68d748>,\n",
       " '12': <cell_describe.colony at 0x10c6e9208>,\n",
       " '13': <cell_describe.colony at 0x10c73eda0>,\n",
       " '14': <cell_describe.colony at 0x10c753320>,\n",
       " '15': <cell_describe.colony at 0x10c7aecc0>,\n",
       " '16': <cell_describe.colony at 0x10c80a4a8>,\n",
       " '17': <cell_describe.colony at 0x10c85e6d8>,\n",
       " '18': <cell_describe.colony at 0x10c8b2908>,\n",
       " '19': <cell_describe.colony at 0x10c908be0>,\n",
       " '20': <cell_describe.colony at 0x10c95def0>,\n",
       " '21': <cell_describe.colony at 0x10c9b1ef0>,\n",
       " '22': <cell_describe.colony at 0x10ca07048>,\n",
       " '23': <cell_describe.colony at 0x10ca5ce10>,\n",
       " '24': <cell_describe.colony at 0x10cab0a90>,\n",
       " '25': <cell_describe.colony at 0x10cb01668>,\n",
       " '26': <cell_describe.colony at 0x10cb57160>,\n",
       " '27': <cell_describe.colony at 0x10cba5c18>,\n",
       " '28': <cell_describe.colony at 0x1074a37b8>,\n",
       " '29': <cell_describe.colony at 0x10cbd1668>,\n",
       " '30': <cell_describe.colony at 0x10cc20cc0>}"
      ]
     },
     "execution_count": 8,
     "metadata": {},
     "output_type": "execute_result"
    }
   ],
   "source": [
    "# Take a look at colonies\n",
    "colonies"
   ]
  },
  {
   "cell_type": "code",
   "execution_count": 4,
   "metadata": {},
   "outputs": [],
   "source": [
    "# # Save file\n",
    "import pickle\n",
    "# Saving the objects:\n",
    "with open('basin_hopping_iter=100(both)_ten=1e-5_pres=1e-6.pkl', 'wb') as f:  # Python 3: open(..., 'wb')\n",
    "    pickle.dump(colonies, f)"
   ]
  },
  {
   "cell_type": "code",
   "execution_count": 4,
   "metadata": {},
   "outputs": [
    {
     "ename": "FileNotFoundError",
     "evalue": "[Errno 2] No such file or directory: 'basin_hopping_iter=300(only_ten)_ten=0.001_pres=1e-6.pkl'",
     "output_type": "error",
     "traceback": [
      "\u001b[0;31m---------------------------------------------------------------------------\u001b[0m",
      "\u001b[0;31mFileNotFoundError\u001b[0m                         Traceback (most recent call last)",
      "\u001b[0;32m<ipython-input-4-d148270d0a78>\u001b[0m in \u001b[0;36m<module>\u001b[0;34m()\u001b[0m\n\u001b[1;32m      1\u001b[0m \u001b[0;31m# Load file\u001b[0m\u001b[0;34m\u001b[0m\u001b[0;34m\u001b[0m\u001b[0m\n\u001b[1;32m      2\u001b[0m \u001b[0;32mimport\u001b[0m \u001b[0mpickle\u001b[0m\u001b[0;34m\u001b[0m\u001b[0m\n\u001b[0;32m----> 3\u001b[0;31m \u001b[0mpkl_file\u001b[0m \u001b[0;34m=\u001b[0m \u001b[0mopen\u001b[0m\u001b[0;34m(\u001b[0m\u001b[0;34m'basin_hopping_iter=300(only_ten)_ten=0.001_pres=1e-6.pkl'\u001b[0m\u001b[0;34m,\u001b[0m\u001b[0;34m'rb'\u001b[0m\u001b[0;34m)\u001b[0m\u001b[0;34m\u001b[0m\u001b[0m\n\u001b[0m\u001b[1;32m      4\u001b[0m \u001b[0mcolonies\u001b[0m \u001b[0;34m=\u001b[0m \u001b[0mpickle\u001b[0m\u001b[0;34m.\u001b[0m\u001b[0mload\u001b[0m\u001b[0;34m(\u001b[0m\u001b[0mpkl_file\u001b[0m\u001b[0;34m)\u001b[0m\u001b[0;34m\u001b[0m\u001b[0m\n",
      "\u001b[0;31mFileNotFoundError\u001b[0m: [Errno 2] No such file or directory: 'basin_hopping_iter=300(only_ten)_ten=0.001_pres=1e-6.pkl'"
     ]
    }
   ],
   "source": [
    "# Load file\n",
    "# import pickle\n",
    "# pkl_file = open('basin_hopping_iter=300(only_ten)_ten=0.001_pres=1e-6.pkl','rb')\n",
    "# colonies = pickle.load(pkl_file)"
   ]
  },
  {
   "cell_type": "code",
   "execution_count": 6,
   "metadata": {},
   "outputs": [],
   "source": [
    "import matplotlib.pyplot as plt\n",
    "fig, (ax1, ax) = plt.subplots(2,1, figsize = (5.5,10))\n",
    "test.make_all_edge_movie(fig, ax, ax1, colonies)"
   ]
  },
  {
   "cell_type": "code",
   "execution_count": 7,
   "metadata": {},
   "outputs": [],
   "source": [
    "# Make vidoes of tension, pressure and both together\n",
    "\n",
    "import matplotlib.pyplot as plt\n",
    "import pylab\n",
    "\n",
    "fig, ax = plt.subplots(1,1, figsize = (8,5))\n",
    "test.plot_tensions(fig, ax, colonies)\n",
    "\n",
    "fig, ax = plt.subplots(1,1, figsize = (8,5))\n",
    "test.plot_pressures(fig, ax, colonies)\n",
    "\n",
    "fig, ax = plt.subplots(1,1, figsize = (8,5))\n",
    "test.plot_both_tension_pressure(fig, ax, colonies)"
   ]
  },
  {
   "cell_type": "code",
   "execution_count": null,
   "metadata": {},
   "outputs": [],
   "source": []
  },
  {
   "cell_type": "code",
   "execution_count": null,
   "metadata": {},
   "outputs": [],
   "source": []
  },
  {
   "cell_type": "code",
   "execution_count": null,
   "metadata": {},
   "outputs": [],
   "source": []
  },
  {
   "cell_type": "code",
   "execution_count": 50,
   "metadata": {},
   "outputs": [
    {
     "data": {
      "text/plain": [
       "[[],\n",
       " 2.5429852930242686e-05,\n",
       " -3.655779771009874e-06,\n",
       " 1.702985043028407e-05,\n",
       " 1.7875429263617694e-05,\n",
       " 1.856627828952935e-05,\n",
       " [],\n",
       " 2.3947478304598056e-05,\n",
       " 1.706233391559669e-06,\n",
       " 1.822838064415355e-05]"
      ]
     },
     "execution_count": 50,
     "metadata": {},
     "output_type": "execute_result"
    }
   ],
   "source": [
    "index = 2\n",
    "c = colonies[str(index)].cells\n",
    "[cc.guess_pressure for cc in c ]"
   ]
  },
  {
   "cell_type": "code",
   "execution_count": 151,
   "metadata": {},
   "outputs": [
    {
     "name": "stdout",
     "output_type": "stream",
     "text": [
      "[5, 4, 2, 6, 7, 1, [], 10, 9, 3, []]\n",
      "[[], [], [], [], [], [], [], [], [], [], []]\n"
     ]
    }
   ],
   "source": [
    "old_cells = colonies[str(5)].cells\n",
    "now_cells = colonies[str(6)].cells\n",
    "now_nodes = colonies[str(6)].tot_nodes\n",
    "print([c.label for c in old_cells])\n",
    "for c in now_cells:\n",
    "    c.label = []\n",
    "print([c.label for c in now_cells])\n"
   ]
  },
  {
   "cell_type": "code",
   "execution_count": 152,
   "metadata": {},
   "outputs": [],
   "source": [
    "for j, cell in enumerate(old_cells):\n",
    "    nodes = cell.nodes\n",
    "    now_cell_nodes = []\n",
    "    for node in nodes:\n",
    "        match_now_node = [n for n in now_nodes if n.label == node.label]                \n",
    "        if match_now_node != []:\n",
    "            now_cell_nodes.append(match_now_node[0])\n",
    "\n",
    "    if -4 < len(cell.nodes) - len(now_cell_nodes) < 4:\n",
    "        # This means we found a matching label node for every node in cell\n",
    "        labels = [n.label for n in nodes]\n",
    "        match_cell = [c for c in now_cells if len(set([n.label for n in c.nodes]).intersection(set(labels))) > 3 ]\n",
    "        if match_cell != []:\n",
    "#             match_cell[0].label = cell.label\n",
    "            if match_cell[0].perimeter() - cell.perimeter() < 200:\n",
    "                match_cell[0].label = cell.label"
   ]
  },
  {
   "cell_type": "code",
   "execution_count": 153,
   "metadata": {},
   "outputs": [
    {
     "name": "stdout",
     "output_type": "stream",
     "text": [
      "[9, 2, 3, 6, 8, 102]\n",
      "[39, 9, 102, 36, 37]\n",
      "[8, 6, 10, 105, 100]\n",
      "[11, 10, 6, 3, 100, 4, 12]\n",
      "[100, 105, 21, 29, 101, 103, 26, 24]\n",
      "[21, 105, 10, 11, 17]\n",
      "[21, 17, 18, 29]\n",
      "[42, 35, 34]\n",
      "[25, 34, 35, 36, 102, 8, 100, 24]\n",
      "[100, 26, 103]\n",
      "[103, 47, 104, 33, 25, 24, 26, 100]\n"
     ]
    }
   ],
   "source": [
    "for cell in now_cells:\n",
    "    print([n.label for n in cell.nodes])"
   ]
  },
  {
   "cell_type": "code",
   "execution_count": 154,
   "metadata": {},
   "outputs": [
    {
     "name": "stdout",
     "output_type": "stream",
     "text": [
      "[5, 4, 2, 1, [], 6, 7, [], 3, [], 10]\n",
      "[5, 4, 2, 6, 7, 1, [], 10, 9, 3, []]\n"
     ]
    }
   ],
   "source": [
    "print([c.label for c in now_cells])\n",
    "print([c.label for c in old_cells])\n"
   ]
  },
  {
   "cell_type": "code",
   "execution_count": 156,
   "metadata": {},
   "outputs": [
    {
     "data": {
      "text/plain": [
       "[None]"
      ]
     },
     "execution_count": 156,
     "metadata": {},
     "output_type": "execute_result"
    },
    {
     "data": {
      "image/png": "[encoded data removed]",
      "text/plain": [
       "<Figure size 432x288 with 2 Axes>"
      ]
     },
     "metadata": {},
     "output_type": "display_data"
    }
   ],
   "source": [
    "import matplotlib.pyplot as plt\n",
    "fig, (ax, ax1) = plt.subplots(1,2)\n",
    "ax.set(xlim = [0,1000], ylim = [0,1000], aspect = 1)\n",
    "ax1.set(xlim = [0,1000], ylim = [0,1000], aspect = 1)\n",
    "[c.plot(ax) for c in old_cells if c.label == 1]\n",
    "[c.plot(ax1) for c in now_cells if c.label == 1]\n"
   ]
  },
  {
   "cell_type": "code",
   "execution_count": 127,
   "metadata": {},
   "outputs": [
    {
     "name": "stdout",
     "output_type": "stream",
     "text": [
      "[9, 2, 3, 6, 8, 102]\n",
      "[39, 9, 102, 36, 37]\n",
      "[8, 6, 10, 105, 100]\n",
      "[11, 17, 21, 105, 10]\n",
      "[17, 18, 29, 21]\n",
      "[11, 10, 6, 3, 100, 4, 12]\n",
      "[26, 103, 32]\n",
      "[32, 103, 47, 104, 33, 25, 24, 26]\n",
      "[42, 35, 34]\n",
      "[25, 34, 35, 36, 102, 8, 100, 24]\n",
      "[26, 24, 100, 105, 21, 29, 101, 103]\n"
     ]
    }
   ],
   "source": [
    "for j, cell in enumerate(old_cells):\n",
    "    nodes = cell.nodes\n",
    "    now_cell_nodes = []\n",
    "    for node in nodes:\n",
    "        match_now_node = [n for n in now_nodes if n.label == node.label]                \n",
    "        if match_now_node != []:\n",
    "            now_cell_nodes.append(match_now_node[0])\n",
    "\n",
    "    if -4 < len(cell.nodes) - len(now_cell_nodes) < 4:\n",
    "#         # This means we found a matching label node for every node in cell\n",
    "        labels = [n.label for n in cell.nodes]\n",
    "        print(labels)\n",
    "\n",
    "        inters = [set([n.label for n in c.nodes]).intersection(set(labels)) for c in now_cells]\n",
    "#         inters = [inte for inte in inters if len(inters) > 2]\n",
    "#         inters = [inte for inte in inters if all(inte) < 100]\n",
    "        match_cell = [c for c in now_cells for inte in inters if all(inte) < 100 and len(inters)>2]\n",
    "            \n",
    "\n",
    "  #      match_cell = [c for c in now_cells if len(set([n.label for n in c.nodes]).intersection(set(labels))) > 2 ]\n",
    "        if match_cell != []:                  \n",
    "            match_cell[0].label = cell.label"
   ]
  },
  {
   "cell_type": "code",
   "execution_count": 44,
   "metadata": {},
   "outputs": [
    {
     "data": {
      "text/plain": [
       "[-3.655779771009874e-06,\n",
       " 2.5429852930242686e-05,\n",
       " 1.877541009938819e-05,\n",
       " 1.7875429263617694e-05,\n",
       " 2.3947478304598056e-05,\n",
       " 1.706233391559669e-06,\n",
       " [],\n",
       " 1.822838064415355e-05,\n",
       " 5.9858808371987663e-05,\n",
       " 1.949459220400582e-05,\n",
       " []]"
      ]
     },
     "execution_count": 44,
     "metadata": {},
     "output_type": "execute_result"
    }
   ],
   "source": [
    "[c.guess_pressure for c in now_cells]"
   ]
  },
  {
   "cell_type": "code",
   "execution_count": 106,
   "metadata": {},
   "outputs": [
    {
     "ename": "TypeError",
     "evalue": "'<' not supported between instances of 'set' and 'int'",
     "output_type": "error",
     "traceback": [
      "\u001b[0;31m---------------------------------------------------------------------------\u001b[0m",
      "\u001b[0;31mTypeError\u001b[0m                                 Traceback (most recent call last)",
      "\u001b[0;32m<ipython-input-106-165f5f1a329d>\u001b[0m in \u001b[0;36m<module>\u001b[0;34m()\u001b[0m\n\u001b[1;32m      1\u001b[0m \u001b[0ma\u001b[0m \u001b[0;34m=\u001b[0m \u001b[0;34m[\u001b[0m\u001b[0;36m1\u001b[0m\u001b[0;34m,\u001b[0m\u001b[0;36m2\u001b[0m\u001b[0;34m,\u001b[0m\u001b[0;36m3\u001b[0m\u001b[0;34m,\u001b[0m\u001b[0;36m100\u001b[0m\u001b[0;34m]\u001b[0m\u001b[0;34m\u001b[0m\u001b[0m\n\u001b[1;32m      2\u001b[0m \u001b[0mb\u001b[0m \u001b[0;34m=\u001b[0m \u001b[0;34m[\u001b[0m\u001b[0;36m4\u001b[0m\u001b[0;34m,\u001b[0m\u001b[0;36m5\u001b[0m\u001b[0;34m,\u001b[0m\u001b[0;36m1\u001b[0m\u001b[0;34m,\u001b[0m\u001b[0;36m100\u001b[0m\u001b[0;34m]\u001b[0m\u001b[0;34m\u001b[0m\u001b[0m\n\u001b[0;32m----> 3\u001b[0;31m \u001b[0;32mif\u001b[0m \u001b[0mset\u001b[0m\u001b[0;34m(\u001b[0m\u001b[0ma\u001b[0m\u001b[0;34m)\u001b[0m\u001b[0;34m.\u001b[0m\u001b[0mintersection\u001b[0m\u001b[0;34m(\u001b[0m\u001b[0mset\u001b[0m\u001b[0;34m(\u001b[0m\u001b[0mb\u001b[0m\u001b[0;34m)\u001b[0m\u001b[0;34m)\u001b[0m \u001b[0;34m<\u001b[0m \u001b[0;36m100\u001b[0m\u001b[0;34m:\u001b[0m\u001b[0;34m\u001b[0m\u001b[0m\n\u001b[0m\u001b[1;32m      4\u001b[0m     \u001b[0mprint\u001b[0m\u001b[0;34m(\u001b[0m\u001b[0;34m'why'\u001b[0m\u001b[0;34m)\u001b[0m\u001b[0;34m\u001b[0m\u001b[0m\n",
      "\u001b[0;31mTypeError\u001b[0m: '<' not supported between instances of 'set' and 'int'"
     ]
    }
   ],
   "source": [
    "a = [1,2,3,100]\n",
    "b = [4,5,1,100]\n",
    "if set(a).intersection(set(b)) < 100:\n",
    "    print('why')\n"
   ]
  },
  {
   "cell_type": "code",
   "execution_count": 110,
   "metadata": {},
   "outputs": [
    {
     "name": "stdout",
     "output_type": "stream",
     "text": [
      "why\n"
     ]
    }
   ],
   "source": [
    "a = [1,2,3]\n",
    "if all(a) < 100:\n",
    "    print('why')"
   ]
  },
  {
   "cell_type": "code",
   "execution_count": 4,
   "metadata": {},
   "outputs": [
    {
     "name": "stdout",
     "output_type": "stream",
     "text": [
      "[6.5312156752449234e-06, 8.659194436533442e-06, 1.9226369906809483e-05, 3.0694811312049004e-05, 1.1575436438208729e-05, 1.300841218952977e-06, 3.749697892031416e-07, -1.102546354749746e-06, 9.437757492085813e-05]\n"
     ]
    }
   ],
   "source": [
    "index = 27\n",
    "cellss = colonies[str(index)].cells\n",
    "print([c.pressure for c in cellss])"
   ]
  },
  {
   "cell_type": "code",
   "execution_count": 15,
   "metadata": {},
   "outputs": [
    {
     "name": "stdout",
     "output_type": "stream",
     "text": [
      "why\n"
     ]
    }
   ],
   "source": [
    "import numpy as np\n",
    "if cellss[0].edges[0].guess_tension is not []:\n",
    "    print('why')"
   ]
  },
  {
   "cell_type": "code",
   "execution_count": null,
   "metadata": {},
   "outputs": [],
   "source": []
  }
 ],
 "metadata": {
  "kernelspec": {
   "display_name": "Python 3",
   "language": "python",
   "name": "python3"
  },
  "language_info": {
   "codemirror_mode": {
    "name": "ipython",
    "version": 3
   },
   "file_extension": ".py",
   "mimetype": "text/x-python",
   "name": "python",
   "nbconvert_exporter": "python",
   "pygments_lexer": "ipython3",
   "version": "3.6.5"
  }
 },
 "nbformat": 4,
 "nbformat_minor": 2
}
