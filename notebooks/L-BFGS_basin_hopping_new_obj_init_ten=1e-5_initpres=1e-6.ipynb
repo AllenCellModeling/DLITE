{
 "cells": [
  {
   "cell_type": "code",
   "execution_count": 1,
   "metadata": {},
   "outputs": [
    {
     "name": "stdout",
     "output_type": "stream",
     "text": [
      "[1, 2, 3, 4, 5, 6, 7, 8, 9, 10, 11, 12, 13, 14, 15, 16, 17, 18, 19, 20, 21, 22, 23, 24, 25, 26, 27, 28, 29, 30]\n"
     ]
    }
   ],
   "source": [
    "import sys\n",
    "import pylab\n",
    "import matplotlib.pyplot as plt\n",
    "sys.path.insert(0, '../cell_soap/')\n",
    "from cell_describe import node, edge, cell, colony, data, manual_tracing, manual_tracing_multiple\n",
    "\n",
    "numbers = []\n",
    "# max_num defines number of colonies to look at\n",
    "max_num = 31\n",
    "for i in range(max_num):\n",
    "    numbers.append(i)\n",
    "numbers.pop(0)\n",
    "print(numbers)\n",
    "test = manual_tracing_multiple(numbers)"
   ]
  },
  {
   "cell_type": "code",
   "execution_count": null,
   "metadata": {},
   "outputs": [
    {
     "name": "stdout",
     "output_type": "stream",
     "text": [
      "File 1 used a Cutoff value ------> 14\n",
      "1e-05\n",
      "why\n",
      "basinhopping step 0: f 0.203354\n",
      "basinhopping step 1: f 2.07221e-07 trial_f 2.07221e-07 accepted 1  lowest_f 2.07221e-07\n",
      "found new global minimum on step 1 with function value 2.07221e-07\n",
      "basinhopping step 2: f 1.27149e-07 trial_f 1.27149e-07 accepted 1  lowest_f 1.27149e-07\n",
      "found new global minimum on step 2 with function value 1.27149e-07\n",
      "basinhopping step 3: f 4.06521e-08 trial_f 4.06521e-08 accepted 1  lowest_f 4.06521e-08\n",
      "found new global minimum on step 3 with function value 4.06521e-08\n",
      "basinhopping step 4: f 4.52048e-09 trial_f 4.52048e-09 accepted 1  lowest_f 4.52048e-09\n",
      "found new global minimum on step 4 with function value 4.52048e-09\n",
      "basinhopping step 5: f 1.34175e-08 trial_f 1.34175e-08 accepted 1  lowest_f 4.52048e-09\n",
      "basinhopping step 6: f 2.61003e-08 trial_f 2.61003e-08 accepted 1  lowest_f 4.52048e-09\n",
      "basinhopping step 7: f 1.38683e-07 trial_f 1.38683e-07 accepted 1  lowest_f 4.52048e-09\n",
      "basinhopping step 8: f 2.77493e-08 trial_f 2.77493e-08 accepted 1  lowest_f 4.52048e-09\n",
      "basinhopping step 9: f 6.79423e-08 trial_f 6.79423e-08 accepted 1  lowest_f 4.52048e-09\n",
      "basinhopping step 10: f 6.46371e-08 trial_f 6.46371e-08 accepted 1  lowest_f 4.52048e-09\n",
      "basinhopping step 11: f 4.16138e-08 trial_f 4.16138e-08 accepted 1  lowest_f 4.52048e-09\n",
      "basinhopping step 12: f 2.07555e-08 trial_f 2.07555e-08 accepted 1  lowest_f 4.52048e-09\n",
      "basinhopping step 13: f 2.32042e-08 trial_f 2.32042e-08 accepted 1  lowest_f 4.52048e-09\n",
      "basinhopping step 14: f 2.72721e-08 trial_f 2.72721e-08 accepted 1  lowest_f 4.52048e-09\n",
      "basinhopping step 15: f 5.84992e-08 trial_f 5.84992e-08 accepted 1  lowest_f 4.52048e-09\n",
      "basinhopping step 16: f 1.24648e-08 trial_f 1.24648e-08 accepted 1  lowest_f 4.52048e-09\n",
      "basinhopping step 17: f 1.21455e-08 trial_f 1.21455e-08 accepted 1  lowest_f 4.52048e-09\n",
      "basinhopping step 18: f 1.10458e-07 trial_f 1.10458e-07 accepted 1  lowest_f 4.52048e-09\n",
      "basinhopping step 19: f 1.04302e-07 trial_f 1.04302e-07 accepted 1  lowest_f 4.52048e-09\n",
      "basinhopping step 20: f 2.77722e-08 trial_f 2.77722e-08 accepted 1  lowest_f 4.52048e-09\n",
      "basinhopping step 21: f 7.06157e-08 trial_f 7.06157e-08 accepted 1  lowest_f 4.52048e-09\n",
      "basinhopping step 22: f 3.80868e-08 trial_f 3.80868e-08 accepted 1  lowest_f 4.52048e-09\n",
      "basinhopping step 23: f 1.14277e-07 trial_f 1.14277e-07 accepted 1  lowest_f 4.52048e-09\n",
      "basinhopping step 24: f 6.84936e-08 trial_f 6.84936e-08 accepted 1  lowest_f 4.52048e-09\n",
      "basinhopping step 25: f 7.32129e-08 trial_f 7.32129e-08 accepted 1  lowest_f 4.52048e-09\n",
      "basinhopping step 26: f 9.27979e-09 trial_f 9.27979e-09 accepted 1  lowest_f 4.52048e-09\n"
     ]
    }
   ],
   "source": [
    "colonies = test.computation_based_on_prev(numbers, colonies = None, index = None, \n",
    "                                          old_dictionary = None, ftol = 1e-50, maxiter = 60*1000, disp = True)"
   ]
  },
  {
   "cell_type": "code",
   "execution_count": 4,
   "metadata": {},
   "outputs": [],
   "source": [
    "# # Save file\n",
    "# import pickle\n",
    "# # Saving the objects:\n",
    "# with open('new_obj_LBFGS_ten0.002_pres1e-4.pkl', 'wb') as f:  # Python 3: open(..., 'wb')\n",
    "#     pickle.dump(colonies, f)"
   ]
  },
  {
   "cell_type": "code",
   "execution_count": 5,
   "metadata": {},
   "outputs": [],
   "source": [
    "\n",
    "import matplotlib.pyplot as plt\n",
    "import pylab\n",
    "\n",
    "fig, ax = plt.subplots(1,1, figsize = (8,5))\n",
    "test.plot_tensions(fig, ax, colonies)\n",
    "\n",
    "fig, ax = plt.subplots(1,1, figsize = (8,5))\n",
    "test.plot_pressures(fig, ax, colonies)\n",
    "\n",
    "fig, ax = plt.subplots(1,1, figsize = (8,5))\n",
    "test.plot_both_tension_pressure(fig, ax, colonies)"
   ]
  },
  {
   "cell_type": "code",
   "execution_count": null,
   "metadata": {},
   "outputs": [],
   "source": []
  }
 ],
 "metadata": {
  "kernelspec": {
   "display_name": "Python 3",
   "language": "python",
   "name": "python3"
  },
  "language_info": {
   "codemirror_mode": {
    "name": "ipython",
    "version": 3
   },
   "file_extension": ".py",
   "mimetype": "text/x-python",
   "name": "python",
   "nbconvert_exporter": "python",
   "pygments_lexer": "ipython3",
   "version": "3.6.5"
  }
 },
 "nbformat": 4,
 "nbformat_minor": 2
}
