{
 "cells": [
  {
   "cell_type": "code",
   "execution_count": 1,
   "metadata": {},
   "outputs": [],
   "source": [
    "# get node, edge and cell data\n",
    "\n",
    "import sys\n",
    "sys.path.insert(0, '../cell_soap/')\n",
    "import cell_describe\n",
    "node = cell_describe.node\n",
    "edge = cell_describe.edge\n",
    "cell = cell_describe.cell\n",
    "colony = cell_describe.colony\n",
    "\n",
    "nodes = [node((250, 290)), #n_a, loc0\n",
    "         node((343, 424)), #n_b, loc1\n",
    "         node((520, 249)), #n_c, loc2\n",
    "         node((321, 108)), #n_d, loc3\n",
    "         node(( 92,  34)), #n_e, loc4\n",
    "         node(( 42, 246)), #n_f, loc5\n",
    "         node(( 83, 446))] #n_g, loc6\n",
    "\n",
    "edges = [edge(nodes[1], nodes[0],  None), #m_ba, loc0\n",
    "         edge(nodes[2], nodes[1],  500), #m_cb, loc1\n",
    "         edge(nodes[2], nodes[3],  400), #m_cd, loc2\n",
    "         edge(nodes[0], nodes[3],  300), #m_ad, loc3\n",
    "         edge(nodes[5], nodes[0],  900), #m_fa, loc4\n",
    "         edge(nodes[5], nodes[4],  200), #m_fe, loc5\n",
    "         edge(nodes[3], nodes[4],  300), #m_de, loc6\n",
    "         edge(nodes[5], nodes[6], 1000), #m_fg, loc7\n",
    "         edge(nodes[6], nodes[1], 1000)] #m_gb, loc8\n",
    "\n",
    "cell_a_nodes = [nodes[0], #n_a\n",
    "                nodes[1], #n_b\n",
    "                nodes[6], #n_g\n",
    "                nodes[5]] #n_f\n",
    "cell_a_edges = [edges[0], #m_ba\n",
    "                edges[8], #m_gb\n",
    "                edges[7], #m_fg\n",
    "                edges[4]] #m_fa\n",
    "\n",
    "cell_b_nodes = [nodes[0], #n_a\n",
    "                nodes[3], #n_d\n",
    "                nodes[2], #n_c\n",
    "                nodes[1]] #n_b\n",
    "cell_b_edges = [edges[3], #m_ad\n",
    "                edges[2], #m_cd\n",
    "                edges[1], #m_cb\n",
    "                edges[0]] #m_ba\n",
    "                \n",
    "cell_c_nodes = [nodes[4], #n_e\n",
    "                nodes[3], #n_d\n",
    "                nodes[0], #n_a\n",
    "                nodes[5]] #n_f\n",
    "cell_c_edges = [edges[6], #m_de\n",
    "                edges[3], #m_ad\n",
    "                edges[4], #m_fa\n",
    "                edges[5]] #m_fe\n",
    "\n",
    "# Create cells\n",
    "cells = [cell(cell_a_nodes, cell_a_edges),\n",
    "         cell(cell_b_nodes, cell_b_edges), \n",
    "         cell(cell_c_nodes, cell_c_edges)]\n",
    "\n"
   ]
  },
  {
   "cell_type": "code",
   "execution_count": 2,
   "metadata": {},
   "outputs": [],
   "source": [
    "# define a colony \n",
    "col1 = colony(cells[0:2])"
   ]
  },
  {
   "cell_type": "code",
   "execution_count": 3,
   "metadata": {},
   "outputs": [
    {
     "name": "stdout",
     "output_type": "stream",
     "text": [
      "[0.5328849725636896]\n"
     ]
    }
   ],
   "source": [
    "# calculate tensions along every edge\n",
    "tensions = col1.calculate_tension()\n",
    "print(edges[0].tension)\n"
   ]
  },
  {
   "cell_type": "code",
   "execution_count": 7,
   "metadata": {},
   "outputs": [
    {
     "data": {
      "text/plain": [
       "[(0, 460), (0, 540), None]"
      ]
     },
     "execution_count": 7,
     "metadata": {},
     "output_type": "execute_result"
    },
    {
     "data": {
      "image/png": "[encoded data removed]",
      "text/plain": [
       "<Figure size 864x144 with 1 Axes>"
      ]
     },
     "metadata": {},
     "output_type": "display_data"
    }
   ],
   "source": [
    "# plot tensions\n",
    "\n",
    "import matplotlib.pyplot as plt\n",
    "from matplotlib import cm\n",
    "import numpy as np\n",
    "\n",
    "\n",
    "edges2 = col1.edges\n",
    "nodes2 = col1.nodes\n",
    "fig, ax = plt.subplots(1,1,figsize=(12,2))\n",
    "\n",
    "min_t = min(tensions)\n",
    "max_t = max(tensions)\n",
    "width = max_t - min_t\n",
    "colors = (tensions - min_t)/width\n",
    "\n",
    "\n",
    "for j, an_edge in enumerate(edges2):\n",
    "    an_edge.plot(ax)\n",
    "    vectors = an_edge.unit_vectors()\n",
    "    a, b = an_edge.node_a.loc, an_edge.node_b.loc\n",
    "    for n,v in zip((a,b), vectors):\n",
    "        ax.plot([n[0], v[0]+n[0]], [n[1], v[1]+n[1]], c=cm.jet(colors[j]), lw = 3 )\n",
    "ax.set(xlim=[0,540], ylim=[0, 460], aspect = 1)"
   ]
  },
  {
   "cell_type": "code",
   "execution_count": 5,
   "metadata": {},
   "outputs": [
    {
     "data": {
      "image/png": "[encoded data removed]",
      "text/plain": [
       "<Figure size 864x144 with 6 Axes>"
      ]
     },
     "metadata": {},
     "output_type": "display_data"
    }
   ],
   "source": [
    "import matplotlib.pyplot as plt\n",
    "from matplotlib import cm\n",
    "import numpy as np\n",
    "\n",
    "\n",
    "edges2 = col1.edges\n",
    "nodes2 = col1.nodes\n",
    "fig, axes = plt.subplots(1,len(nodes2),figsize=(12,2))\n",
    "\n",
    "for ax in axes:\n",
    "    for j, an_edge in enumerate(edges2):\n",
    "\n",
    "        an_edge.plot(ax)\n",
    "        vectors = an_edge.unit_vectors()\n",
    "        a, b = an_edge.node_a.loc, an_edge.node_b.loc\n",
    "        for n,v in zip((a,b), vectors):\n",
    "            ax.plot([n[0], v[0]+n[0]], [n[1], v[1]+n[1]], c=cm.hot(colors[j]), lw = 3 )\n",
    "#             ax.set(xlim=[0,540], ylim=[0, 460], aspect = 1)\n",
    "            \n",
    "for ax, an_node in zip(axes, nodes2):\n",
    "    x,y = an_node.loc\n",
    "    ax.set(xlim=[x-3, x+3], ylim=[y-3,y+3], aspect=1)    \n",
    "plt.tight_layout()\n",
    "\n",
    "\n",
    "\n"
   ]
  },
  {
   "cell_type": "code",
   "execution_count": null,
   "metadata": {},
   "outputs": [],
   "source": []
  },
  {
   "cell_type": "code",
   "execution_count": null,
   "metadata": {},
   "outputs": [],
   "source": [
    "numpy linalg.lstsq #least square solver"
   ]
  },
  {
   "cell_type": "code",
   "execution_count": null,
   "metadata": {},
   "outputs": [],
   "source": []
  },
  {
   "cell_type": "code",
   "execution_count": null,
   "metadata": {},
   "outputs": [],
   "source": []
  },
  {
   "cell_type": "code",
   "execution_count": null,
   "metadata": {},
   "outputs": [],
   "source": []
  },
  {
   "cell_type": "code",
   "execution_count": null,
   "metadata": {},
   "outputs": [],
   "source": []
  },
  {
   "cell_type": "code",
   "execution_count": null,
   "metadata": {},
   "outputs": [],
   "source": []
  },
  {
   "cell_type": "markdown",
   "metadata": {},
   "source": [
    "Testing"
   ]
  },
  {
   "cell_type": "code",
   "execution_count": 1,
   "metadata": {},
   "outputs": [],
   "source": [
    "import sys\n",
    "sys.path.insert(0, '../cell_soap/')\n",
    "import cell_describe\n",
    "node = cell_describe.node\n",
    "edge = cell_describe.edge\n",
    "cell = cell_describe.cell\n",
    "colony = cell_describe.colony\n",
    "\n",
    "nodes = [node((250, 290)), #n_a, loc0\n",
    "         node((343, 424)), #n_b, loc1\n",
    "         node((520, 249)), #n_c, loc2\n",
    "         node((321, 108)), #n_d, loc3\n",
    "         node(( 92,  34)), #n_e, loc4\n",
    "         node(( 42, 246)), #n_f, loc5\n",
    "         node(( 83, 446))] #n_g, loc6\n",
    "\n",
    "edges = [edge(nodes[1], nodes[0],  None), #m_ba, loc0\n",
    "         edge(nodes[2], nodes[1],  None), #m_cb, loc1\n",
    "         edge(nodes[2], nodes[3],  None), #m_cd, loc2\n",
    "         edge(nodes[0], nodes[3],  None), #m_ad, loc3\n",
    "         edge(nodes[5], nodes[0],  None), #m_fa, loc4\n",
    "         edge(nodes[5], nodes[4],  None), #m_fe, loc5\n",
    "         edge(nodes[3], nodes[4], None), #m_de, loc6\n",
    "         edge(nodes[5], nodes[6], None), #m_fg, loc7\n",
    "         edge(nodes[6], nodes[1], None)] #m_gb, loc8\n",
    "\n",
    "cell_a_nodes = [nodes[0], #n_a\n",
    "                nodes[1], #n_b\n",
    "                nodes[6], #n_g\n",
    "                nodes[5]] #n_f\n",
    "cell_a_edges = [edges[0], #m_ba\n",
    "                edges[8], #m_gb\n",
    "                edges[7], #m_fg\n",
    "                edges[4]] #m_fa\n",
    "\n",
    "cell_b_nodes = [nodes[0], #n_a\n",
    "                nodes[3], #n_d\n",
    "                nodes[2], #n_c\n",
    "                nodes[1]] #n_b\n",
    "cell_b_edges = [edges[3], #m_ad\n",
    "                edges[2], #m_cd\n",
    "                edges[1], #m_cb\n",
    "                edges[0]] #m_ba\n",
    "                \n",
    "cell_c_nodes = [nodes[4], #n_e\n",
    "                nodes[3], #n_d\n",
    "                nodes[0], #n_a\n",
    "                nodes[5]] #n_f\n",
    "cell_c_edges = [edges[6], #m_de\n",
    "                edges[3], #m_ad\n",
    "                edges[4], #m_fa\n",
    "                edges[5]] #m_fe\n",
    "\n",
    "# Create cells\n",
    "cells = [cell(cell_a_nodes, cell_a_edges),\n",
    "         cell(cell_b_nodes, cell_b_edges), \n",
    "         cell(cell_c_nodes, cell_c_edges)]"
   ]
  },
  {
   "cell_type": "code",
   "execution_count": 8,
   "metadata": {},
   "outputs": [
    {
     "name": "stdout",
     "output_type": "stream",
     "text": [
      "[0.5992653794502539, 0.5543013369896792]\n"
     ]
    }
   ],
   "source": [
    "col1 = colony(cells[0:3])\n",
    "tensions = col1.calculate_tension()\n",
    "print(edges[0].tension)"
   ]
  },
  {
   "cell_type": "code",
   "execution_count": 7,
   "metadata": {},
   "outputs": [
    {
     "data": {
      "text/plain": [
       "[(0, 460), (0, 540), None]"
      ]
     },
     "execution_count": 7,
     "metadata": {},
     "output_type": "execute_result"
    },
    {
     "data": {
      "image/png": "[encoded data removed]",
      "text/plain": [
       "<Figure size 864x144 with 1 Axes>"
      ]
     },
     "metadata": {},
     "output_type": "display_data"
    }
   ],
   "source": [
    "# plot tensions\n",
    "\n",
    "import matplotlib.pyplot as plt\n",
    "from matplotlib import cm\n",
    "import numpy as np\n",
    "\n",
    "\n",
    "edges2 = col1.edges\n",
    "nodes2 = col1.nodes\n",
    "fig, ax = plt.subplots(1,1,figsize=(12,2))\n",
    "\n",
    "min_t = min(tensions)\n",
    "max_t = max(tensions)\n",
    "width = max_t - min_t\n",
    "colors = (tensions - min_t)/width\n",
    "\n",
    "\n",
    "\n",
    "for j, an_edge in enumerate(edges2):\n",
    "    an_edge.plot(ax, c=cm.jet(colors[j]))\n",
    "    vectors = an_edge.unit_vectors()\n",
    "    a, b = an_edge.node_a.loc, an_edge.node_b.loc\n",
    "    for n,v in zip((a,b), vectors):\n",
    "        ax.plot([n[0], v[0]+n[0]], [n[1], v[1]+n[1]], c=cm.jet(colors[j]), lw = 3 )\n",
    "ax.set(xlim=[0,540], ylim=[0, 460], aspect = 1)"
   ]
  },
  {
   "cell_type": "code",
   "execution_count": null,
   "metadata": {},
   "outputs": [],
   "source": []
  },
  {
   "cell_type": "code",
   "execution_count": null,
   "metadata": {},
   "outputs": [],
   "source": []
  },
  {
   "cell_type": "code",
   "execution_count": 7,
   "metadata": {},
   "outputs": [
    {
     "name": "stdout",
     "output_type": "stream",
     "text": [
      "1.0\n",
      "2.0\n",
      "3.0\n",
      "4.0\n"
     ]
    },
    {
     "data": {
      "image/png": "[encoded data removed]",
      "text/plain": [
       "<Figure size 432x288 with 1 Axes>"
      ]
     },
     "metadata": {},
     "output_type": "display_data"
    }
   ],
   "source": [
    "import numpy as np\n",
    "import matplotlib.pyplot as plt\n",
    "from matplotlib import cm\n",
    "\n",
    "# some fake data:\n",
    "x = np.linspace(0, 2*np.pi, 1000)\n",
    "fs = np.arange(1, 5.)\n",
    "ys = np.sin(x*fs[:, None])\n",
    "\n",
    "\n",
    "for y, f in zip(ys, fs):\n",
    "    print(f)\n",
    "    plt.plot(x, y, lw=3, c=cm.hot(f/5))"
   ]
  },
  {
   "cell_type": "code",
   "execution_count": 20,
   "metadata": {},
   "outputs": [
    {
     "data": {
      "text/plain": [
       "[<matplotlib.lines.Line2D at 0x110e8a240>]"
      ]
     },
     "execution_count": 20,
     "metadata": {},
     "output_type": "execute_result"
    },
    {
     "data": {
      "image/png": "[encoded data removed]",
      "text/plain": [
       "<Figure size 432x288 with 1 Axes>"
      ]
     },
     "metadata": {},
     "output_type": "display_data"
    }
   ],
   "source": [
    "# Generate data...\n",
    "from matplotlib import cm\n",
    "import numpy as np\n",
    "x = np.random.random(10)\n",
    "y = np.random.random(10)\n",
    "\n",
    "# Plot...\n",
    "plt.plot(x, y, c=cm.hot(0.9))\n"
   ]
  },
  {
   "cell_type": "code",
   "execution_count": 30,
   "metadata": {},
   "outputs": [
    {
     "name": "stdout",
     "output_type": "stream",
     "text": [
      "4.0\n"
     ]
    }
   ],
   "source": [
    "print(f)"
   ]
  },
  {
   "cell_type": "code",
   "execution_count": 6,
   "metadata": {},
   "outputs": [
    {
     "name": "stdout",
     "output_type": "stream",
     "text": [
      "6\n",
      "7\n"
     ]
    },
    {
     "data": {
      "image/png": "[encoded data removed]",
      "text/plain": [
       "<Figure size 864x144 with 6 Axes>"
      ]
     },
     "metadata": {},
     "output_type": "display_data"
    }
   ],
   "source": [
    "\n",
    "\n"
   ]
  },
  {
   "cell_type": "code",
   "execution_count": null,
   "metadata": {},
   "outputs": [],
   "source": []
  },
  {
   "cell_type": "markdown",
   "metadata": {},
   "source": [
    "More Testing after this line"
   ]
  },
  {
   "cell_type": "code",
   "execution_count": 57,
   "metadata": {},
   "outputs": [
    {
     "data": {
      "text/plain": [
       "array([[-1. ,  0.2],\n",
       "       [ 0.3, -0.4],\n",
       "       [ 1. ,  0.4]])"
      ]
     },
     "execution_count": 57,
     "metadata": {},
     "output_type": "execute_result"
    }
   ],
   "source": [
    "# A = np.array([[-1, 0.2, 0.9],[0.3, -0.4, 0.6], [1, 0.4, 0.6]])\n",
    "A = np.array([[-1, 0.2],[0.3, -0.4], [1, 0.4]])\n",
    "A"
   ]
  },
  {
   "cell_type": "code",
   "execution_count": 58,
   "metadata": {},
   "outputs": [],
   "source": [
    "y = np.array([0.4, 0.5, 0.7])"
   ]
  },
  {
   "cell_type": "code",
   "execution_count": 59,
   "metadata": {},
   "outputs": [
    {
     "data": {
      "text/plain": [
       "array([0.4, 0.5, 0.7])"
      ]
     },
     "execution_count": 59,
     "metadata": {},
     "output_type": "execute_result"
    }
   ],
   "source": [
    "y"
   ]
  },
  {
   "cell_type": "code",
   "execution_count": 60,
   "metadata": {},
   "outputs": [],
   "source": [
    "m = np.linalg.lstsq(A, y, rcond = None)[0]"
   ]
  },
  {
   "cell_type": "code",
   "execution_count": 61,
   "metadata": {},
   "outputs": [
    {
     "data": {
      "text/plain": [
       "array([0.2, 0.4])"
      ]
     },
     "execution_count": 61,
     "metadata": {},
     "output_type": "execute_result"
    }
   ],
   "source": [
    "m"
   ]
  },
  {
   "cell_type": "code",
   "execution_count": 64,
   "metadata": {},
   "outputs": [
    {
     "data": {
      "text/plain": [
       "[<cell_describe.edge at 0x10ea55be0>,\n",
       " <cell_describe.edge at 0x110b56240>,\n",
       " <cell_describe.edge at 0x110b56780>]"
      ]
     },
     "execution_count": 64,
     "metadata": {},
     "output_type": "execute_result"
    }
   ],
   "source": [
    "nodes[0].edges"
   ]
  },
  {
   "cell_type": "code",
   "execution_count": 6,
   "metadata": {},
   "outputs": [
    {
     "name": "stdout",
     "output_type": "stream",
     "text": [
      "[<cell_describe.edge object at 0x109c99c50>, <cell_describe.edge object at 0x10bd9c2e8>, <cell_describe.edge object at 0x10bd9c2b0>, <cell_describe.edge object at 0x10bd9c710>, <cell_describe.edge object at 0x10bd9c208>, <cell_describe.edge object at 0x10bd9c240>, <cell_describe.edge object at 0x10b7a9278>]\n"
     ]
    }
   ],
   "source": [
    "edges = col1.edges\n",
    "print(edges)"
   ]
  },
  {
   "cell_type": "code",
   "execution_count": 16,
   "metadata": {},
   "outputs": [],
   "source": [
    "indices = np.array([edges.index(x) for x in nodes[3].edges if x in edges])\n",
    "vectors = np.array([x[0] for x in nodes[3].tension_vectors if nodes[3].edges[nodes[3].tension_vectors.index(x)] in edges])\n",
    "# horizontal_vectors = np.array([x[0] for x in nodes[3].tension_vectors if [True for i ]])"
   ]
  },
  {
   "cell_type": "code",
   "execution_count": 17,
   "metadata": {},
   "outputs": [
    {
     "name": "stdout",
     "output_type": "stream",
     "text": [
      "[5 4]\n",
      "[ 0.95335223 -0.04029669]\n"
     ]
    }
   ],
   "source": [
    "print(indices)\n",
    "print(vectors)\n"
   ]
  },
  {
   "cell_type": "code",
   "execution_count": 28,
   "metadata": {},
   "outputs": [
    {
     "name": "stdout",
     "output_type": "stream",
     "text": [
      "why\n"
     ]
    }
   ],
   "source": [
    "if [True for i in nodes[3].edges if i in edges]:\n",
    "    print('why')"
   ]
  },
  {
   "cell_type": "code",
   "execution_count": 25,
   "metadata": {},
   "outputs": [
    {
     "data": {
      "text/plain": [
       "<cell_describe.edge at 0x10c2ccef0>"
      ]
     },
     "execution_count": 25,
     "metadata": {},
     "output_type": "execute_result"
    }
   ],
   "source": [
    "nodes[3].edges[0]"
   ]
  },
  {
   "cell_type": "code",
   "execution_count": 47,
   "metadata": {},
   "outputs": [],
   "source": [
    "col1\n",
    "self = col1"
   ]
  },
  {
   "cell_type": "code",
   "execution_count": 79,
   "metadata": {},
   "outputs": [],
   "source": [
    "\n",
    "nodes = self.nodes\n",
    "edges = self.edges\n",
    "\n",
    "# solve y = Ax\n",
    "# initialize A\n",
    "A = np.zeros((len(edges), 1))\n",
    "y = np.zeros(len(edges))\n",
    "b = np.zeros(len(edges))\n",
    "\n",
    "for node in nodes:\n",
    "    b = np.zeros(len(edges))\n",
    "    # node.edges should give the same edge as the edge corresponding to node.tension_vectors since they are added together\n",
    "    # only want to add indices of edges that are part of colony edge list\n",
    "    indices = np.array([edges.index(x) for x in node.edges if x in edges])\n",
    "\n",
    "    # only want to consider horizontal vectors that are a part of the colony edge list \n",
    "    horizontal_vectors = np.array([x[0] for x in node.tension_vectors if node.edges[node.tension_vectors.index(x)] in edges])\n",
    "    b[indices] =horizontal_vectors\n",
    "    A = np.append(A, b[np.newaxis].T, axis=1)\n",
    "\n",
    "\n",
    "    vertical_vectors = np.array([x[1] for x in node.tension_vectors if node.edges[node.tension_vectors.index(x)] in edges])\n",
    "    b[indices] =vertical_vectors\n",
    "    A = np.append(A, b[np.newaxis].T, axis=1)\n",
    "\n",
    "#tensions = np.linalg.solve(A, B) # doesnt work for homogenous system\n",
    "#tensions = solution(A)\n",
    "tensions= np.linalg.lstsq(A, y, rcond = None)[0]"
   ]
  },
  {
   "cell_type": "code",
   "execution_count": 92,
   "metadata": {},
   "outputs": [
    {
     "name": "stdout",
     "output_type": "stream",
     "text": [
      "(7, 13)\n",
      "<function shape at 0x10aa351e0>\n",
      "(7,)\n"
     ]
    }
   ],
   "source": [
    "print(np.shape(A))\n",
    "print(np.shape)\n",
    "print(np.shape(y))\n",
    "tensions = np.linalg.lstsq(A[:, 0:6], y, rcond = None)[0]"
   ]
  },
  {
   "cell_type": "code",
   "execution_count": 93,
   "metadata": {},
   "outputs": [
    {
     "name": "stdout",
     "output_type": "stream",
     "text": [
      "[0. 0. 0. 0. 0. 0.]\n"
     ]
    }
   ],
   "source": [
    "print(tensions)"
   ]
  },
  {
   "cell_type": "code",
   "execution_count": 95,
   "metadata": {},
   "outputs": [
    {
     "data": {
      "text/plain": [
       "array([ 0.        ,  0.        ,  0.        , -0.97692264,  0.21359345,\n",
       "        0.99892264,  0.04640655,  0.        ,  0.        ,  0.        ,\n",
       "        0.        ,  0.        ,  0.        ])"
      ]
     },
     "execution_count": 95,
     "metadata": {},
     "output_type": "execute_result"
    }
   ],
   "source": [
    "A[1,:]"
   ]
  },
  {
   "cell_type": "code",
   "execution_count": 38,
   "metadata": {},
   "outputs": [],
   "source": [
    "tr[:,:-1] = f.T"
   ]
  },
  {
   "cell_type": "code",
   "execution_count": 39,
   "metadata": {},
   "outputs": [
    {
     "data": {
      "text/plain": [
       "array([[0.],\n",
       "       [0.],\n",
       "       [0.],\n",
       "       [0.]])"
      ]
     },
     "execution_count": 39,
     "metadata": {},
     "output_type": "execute_result"
    }
   ],
   "source": [
    "tr"
   ]
  },
  {
   "cell_type": "code",
   "execution_count": 40,
   "metadata": {},
   "outputs": [],
   "source": [
    "tr[:,:-1] = f.T"
   ]
  },
  {
   "cell_type": "code",
   "execution_count": 41,
   "metadata": {},
   "outputs": [
    {
     "data": {
      "text/plain": [
       "array([[0.],\n",
       "       [0.],\n",
       "       [0.],\n",
       "       [0.]])"
      ]
     },
     "execution_count": 41,
     "metadata": {},
     "output_type": "execute_result"
    }
   ],
   "source": [
    "tr"
   ]
  },
  {
   "cell_type": "code",
   "execution_count": 43,
   "metadata": {},
   "outputs": [],
   "source": [
    "tr = np.append(tr, f.T, axis=1)"
   ]
  },
  {
   "cell_type": "code",
   "execution_count": 44,
   "metadata": {},
   "outputs": [
    {
     "data": {
      "text/plain": [
       "array([[0. , 0.1],\n",
       "       [0. , 0.2],\n",
       "       [0. , 0.3],\n",
       "       [0. , 0.4]])"
      ]
     },
     "execution_count": 44,
     "metadata": {},
     "output_type": "execute_result"
    }
   ],
   "source": [
    "tr"
   ]
  },
  {
   "cell_type": "code",
   "execution_count": 45,
   "metadata": {},
   "outputs": [],
   "source": [
    "tr = np.append(tr, f.T, axis=1)"
   ]
  },
  {
   "cell_type": "code",
   "execution_count": 96,
   "metadata": {},
   "outputs": [],
   "source": [
    "self = col1"
   ]
  },
  {
   "cell_type": "code",
   "execution_count": 101,
   "metadata": {},
   "outputs": [
    {
     "name": "stdout",
     "output_type": "stream",
     "text": [
      "0\n",
      "1\n",
      "2\n",
      "3\n",
      "4\n",
      "5\n"
     ]
    }
   ],
   "source": [
    "from useful_functions import solution\n",
    "nodes = self.nodes\n",
    "edges = self.edges\n",
    "\n",
    "# solve AX = B\n",
    "# initialize A\n",
    "A = np.zeros((len(edges), len(edges)))\n",
    "\n",
    "j = 0\n",
    "\n",
    "for node in nodes:\n",
    "\n",
    "    if j < len(edges):\n",
    "\n",
    "        # node.edges should give the same edge as the edge corresponding to node.tension_vectors since they are added together\n",
    "        # only want to add indices of edges that are part of the edges of the colony\n",
    "        indices = np.array([edges.index(x) for x in node.edges if x in edges])\n",
    "        # only want to consider horizontal vectors that are a part of the colony edge list \n",
    "        horizontal_vectors = np.array([x[0] for x in node.tension_vectors if node.edges[node.tension_vectors.index(x)] in edges])\n",
    "\n",
    "        A[j, indices] = horizontal_vectors\n",
    "        print(j)\n",
    "        j +=1\n",
    "\n",
    "if j < len(edges):\n",
    "    for node in nodes:\n",
    "        if j < len(edges):\n",
    "            indices = np.array([edges.index(x) for x in node.edges if x in edges])\n",
    "            vertical_vectors = np.array([x[1] for x in node.tension_vectors if node.edges[node.tension_vectors.index(x)] in edges])\n",
    "            A[j,indices] = vertical_vectors\n",
    "            j += 1\n",
    "\n",
    "#tensions = np.linalg.solve(A, B) # doesnt work for homogenous system\n",
    "tensions = solution(A)"
   ]
  },
  {
   "cell_type": "code",
   "execution_count": 102,
   "metadata": {},
   "outputs": [
    {
     "data": {
      "text/plain": [
       "array([ 0.17165444, -0.21420433, -0.93751405,  0.14600889,  0.13162498,\n",
       "        0.03559452, -0.07620996])"
      ]
     },
     "execution_count": 102,
     "metadata": {},
     "output_type": "execute_result"
    }
   ],
   "source": [
    "tensions"
   ]
  },
  {
   "cell_type": "code",
   "execution_count": 142,
   "metadata": {},
   "outputs": [
    {
     "name": "stdout",
     "output_type": "stream",
     "text": [
      "qr solution\n",
      "[[-0.]\n",
      " [ 0.]\n",
      " [-0.]\n",
      " [ 0.]\n",
      " [-0.]]\n",
      "lstqs solution\n",
      "[[0.]\n",
      " [0.]\n",
      " [0.]\n",
      " [0.]\n",
      " [0.]]\n"
     ]
    }
   ],
   "source": [
    "# generating a random overdetermined system\n",
    "import numpy as np\n",
    "A = np.random.rand(5,5)\n",
    "b = np.random.rand(5,1) \n",
    "b = np.zeros((5,1))\n",
    "\n",
    "x_lstsq = np.linalg.lstsq(A,b, rcond = None)[0] # computing the numpy solution\n",
    "\n",
    "Q,R = np.linalg.qr(A) # qr decomposition of A\n",
    "Qb = np.dot(Q.T,b) # computing Q^T*b (project b onto the range of A)\n",
    "x_qr = np.linalg.solve(R,Qb) # solving R*x = Q^T*b\n",
    "\n",
    "# comparing the solutions\n",
    "print('qr solution')\n",
    "print(x_qr)\n",
    "print('lstqs solution')\n",
    "print(x_lstsq)"
   ]
  },
  {
   "cell_type": "code",
   "execution_count": 143,
   "metadata": {},
   "outputs": [],
   "source": [
    "from scipy.sparse.linalg import lsqr"
   ]
  },
  {
   "cell_type": "code",
   "execution_count": 144,
   "metadata": {},
   "outputs": [
    {
     "name": "stdout",
     "output_type": "stream",
     "text": [
      "The exact solution is  x = 0                              \n"
     ]
    },
    {
     "data": {
      "text/plain": [
       "array([0., 0., 0., 0., 0.])"
      ]
     },
     "execution_count": 144,
     "metadata": {},
     "output_type": "execute_result"
    }
   ],
   "source": [
    "lsqr(A, b, damp=0.0, atol=1e-08, btol=1e-08, conlim=100000000.0, iter_lim=None, show=False, calc_var=False)[0]"
   ]
  },
  {
   "cell_type": "code",
   "execution_count": 187,
   "metadata": {},
   "outputs": [],
   "source": [
    "a = np.random.randn(4, 3) "
   ]
  },
  {
   "cell_type": "code",
   "execution_count": 188,
   "metadata": {},
   "outputs": [
    {
     "data": {
      "text/plain": [
       "array([[-0.70734869, -1.66793521,  1.91476961],\n",
       "       [-0.47973195,  0.32129656, -1.08589387],\n",
       "       [ 0.2821073 ,  1.90382654, -0.40226756],\n",
       "       [ 1.5344177 , -0.94977052, -0.98745211]])"
      ]
     },
     "execution_count": 188,
     "metadata": {},
     "output_type": "execute_result"
    }
   ],
   "source": [
    "a"
   ]
  },
  {
   "cell_type": "code",
   "execution_count": 189,
   "metadata": {},
   "outputs": [],
   "source": [
    "U, s, Vh = np.linalg.svd(a)"
   ]
  },
  {
   "cell_type": "code",
   "execution_count": 190,
   "metadata": {},
   "outputs": [
    {
     "data": {
      "text/plain": [
       "array([[ 0.2298921 ,  0.71809847, -0.65687457],\n",
       "       [-0.63661812,  0.62147752,  0.45659946],\n",
       "       [-0.73611615, -0.31320964, -0.60002727]])"
      ]
     },
     "execution_count": 190,
     "metadata": {},
     "output_type": "execute_result"
    }
   ],
   "source": [
    "Vh"
   ]
  },
  {
   "cell_type": "code",
   "execution_count": 191,
   "metadata": {},
   "outputs": [
    {
     "data": {
      "text/plain": [
       "array([3.24481659, 2.19715653, 1.09655073])"
      ]
     },
     "execution_count": 191,
     "metadata": {},
     "output_type": "execute_result"
    }
   ],
   "source": [
    "s"
   ]
  },
  {
   "cell_type": "code",
   "execution_count": 192,
   "metadata": {},
   "outputs": [
    {
     "data": {
      "text/plain": [
       "array([[3.24481659, 0.        , 0.        ],\n",
       "       [0.        , 2.19715653, 0.        ],\n",
       "       [0.        , 0.        , 1.09655073]])"
      ]
     },
     "execution_count": 192,
     "metadata": {},
     "output_type": "execute_result"
    }
   ],
   "source": [
    "np.diag(s)"
   ]
  },
  {
   "cell_type": "code",
   "execution_count": 174,
   "metadata": {},
   "outputs": [],
   "source": [
    "s2 = np.linalg.svd(a, compute_uv=False)"
   ]
  },
  {
   "cell_type": "code",
   "execution_count": 175,
   "metadata": {},
   "outputs": [
    {
     "data": {
      "text/plain": [
       "array([2.55193521, 2.08307588, 0.55388028])"
      ]
     },
     "execution_count": 175,
     "metadata": {},
     "output_type": "execute_result"
    }
   ],
   "source": [
    "s2"
   ]
  },
  {
   "cell_type": "code",
   "execution_count": 240,
   "metadata": {},
   "outputs": [
    {
     "name": "stdout",
     "output_type": "stream",
     "text": [
      "[1. 1.]\n"
     ]
    }
   ],
   "source": [
    "import scipy as sp\n",
    "A = np.array([[1,0,0], [0,1,0]])\n",
    "\n",
    "U, S,V = sp.linalg.svd(A)\n",
    "SS = np.zeros((len(A[:,1]),len(A[1,:])))\n",
    "# SS = sp.diag(S)\n",
    "SS.diagonal() \n",
    "np.fill_diagonal(SS.T, S)\n",
    "print(S)"
   ]
  },
  {
   "cell_type": "code",
   "execution_count": 236,
   "metadata": {},
   "outputs": [
    {
     "data": {
      "text/plain": [
       "array([0., 1.])"
      ]
     },
     "execution_count": 236,
     "metadata": {},
     "output_type": "execute_result"
    }
   ],
   "source": [
    "np.dot(A, SS[-1])"
   ]
  },
  {
   "cell_type": "code",
   "execution_count": 237,
   "metadata": {},
   "outputs": [
    {
     "data": {
      "text/plain": [
       "array([0., 1., 0.])"
      ]
     },
     "execution_count": 237,
     "metadata": {},
     "output_type": "execute_result"
    }
   ],
   "source": [
    "SS[-1]"
   ]
  },
  {
   "cell_type": "code",
   "execution_count": 196,
   "metadata": {},
   "outputs": [
    {
     "data": {
      "text/plain": [
       "array([[1., 0.],\n",
       "       [0., 1.]])"
      ]
     },
     "execution_count": 196,
     "metadata": {},
     "output_type": "execute_result"
    }
   ],
   "source": [
    "U"
   ]
  },
  {
   "cell_type": "code",
   "execution_count": 197,
   "metadata": {},
   "outputs": [
    {
     "data": {
      "text/plain": [
       "array([1., 1.])"
      ]
     },
     "execution_count": 197,
     "metadata": {},
     "output_type": "execute_result"
    }
   ],
   "source": [
    "S"
   ]
  },
  {
   "cell_type": "code",
   "execution_count": 198,
   "metadata": {},
   "outputs": [
    {
     "data": {
      "text/plain": [
       "array([[1., 0., 0.],\n",
       "       [0., 1., 0.],\n",
       "       [0., 0., 1.]])"
      ]
     },
     "execution_count": 198,
     "metadata": {},
     "output_type": "execute_result"
    }
   ],
   "source": []
  },
  {
   "cell_type": "code",
   "execution_count": 208,
   "metadata": {},
   "outputs": [
    {
     "name": "stdout",
     "output_type": "stream",
     "text": [
      "[[1. 0.]\n",
      " [0. 1.]]\n"
     ]
    }
   ],
   "source": [
    "SS = np.diag(S)\n",
    "print(SS)"
   ]
  },
  {
   "cell_type": "code",
   "execution_count": 205,
   "metadata": {},
   "outputs": [
    {
     "ename": "ValueError",
     "evalue": "shapes (2,3) and (2,) not aligned: 3 (dim 1) != 2 (dim 0)",
     "output_type": "error",
     "traceback": [
      "\u001b[0;31m---------------------------------------------------------------------------\u001b[0m",
      "\u001b[0;31mValueError\u001b[0m                                Traceback (most recent call last)",
      "\u001b[0;32m<ipython-input-205-818a8b33cfd7>\u001b[0m in \u001b[0;36m<module>\u001b[0;34m()\u001b[0m\n\u001b[0;32m----> 1\u001b[0;31m \u001b[0mnp\u001b[0m\u001b[0;34m.\u001b[0m\u001b[0mdot\u001b[0m\u001b[0;34m(\u001b[0m\u001b[0mA\u001b[0m\u001b[0;34m,\u001b[0m\u001b[0mSS\u001b[0m\u001b[0;34m[\u001b[0m\u001b[0;34m-\u001b[0m\u001b[0;36m1\u001b[0m\u001b[0;34m]\u001b[0m\u001b[0;34m)\u001b[0m\u001b[0;34m\u001b[0m\u001b[0m\n\u001b[0m",
      "\u001b[0;31mValueError\u001b[0m: shapes (2,3) and (2,) not aligned: 3 (dim 1) != 2 (dim 0)"
     ]
    }
   ],
   "source": [
    "np.dot(A,SS[-1])"
   ]
  },
  {
   "cell_type": "code",
   "execution_count": 265,
   "metadata": {},
   "outputs": [],
   "source": [
    "A = np.ones((4,3))"
   ]
  },
  {
   "cell_type": "code",
   "execution_count": 269,
   "metadata": {},
   "outputs": [
    {
     "data": {
      "text/plain": [
       "array([[1., 1., 1.],\n",
       "       [1., 1., 1.],\n",
       "       [1., 1., 1.],\n",
       "       [1., 1., 1.]])"
      ]
     },
     "execution_count": 269,
     "metadata": {},
     "output_type": "execute_result"
    }
   ],
   "source": [
    "# A[3,:] = [4,2,3,0.4]\n",
    "A"
   ]
  },
  {
   "cell_type": "code",
   "execution_count": 267,
   "metadata": {},
   "outputs": [],
   "source": [
    "U, S,V = sp.linalg.svd(A)"
   ]
  },
  {
   "cell_type": "code",
   "execution_count": 283,
   "metadata": {},
   "outputs": [
    {
     "name": "stdout",
     "output_type": "stream",
     "text": [
      "[[-0.57735027 -0.57735027 -0.57735027]\n",
      " [-0.81649658  0.40824829  0.40824829]\n",
      " [-0.          0.70710678 -0.70710678]]\n",
      "[[-0.57735027 -0.81649658 -0.        ]\n",
      " [-0.57735027  0.40824829  0.70710678]\n",
      " [-0.57735027  0.40824829 -0.70710678]]\n"
     ]
    }
   ],
   "source": [
    "print(V)\n",
    "print(V.T)"
   ]
  },
  {
   "cell_type": "code",
   "execution_count": 284,
   "metadata": {},
   "outputs": [
    {
     "name": "stdout",
     "output_type": "stream",
     "text": [
      "[-0.          0.70710678 -0.70710678]\n",
      "[-0.81649658  0.40824829  0.40824829]\n",
      "[-0.57735027 -0.57735027 -0.57735027]\n"
     ]
    },
    {
     "ename": "IndexError",
     "evalue": "index -4 is out of bounds for axis 1 with size 3",
     "output_type": "error",
     "traceback": [
      "\u001b[0;31m---------------------------------------------------------------------------\u001b[0m",
      "\u001b[0;31mIndexError\u001b[0m                                Traceback (most recent call last)",
      "\u001b[0;32m<ipython-input-284-1970390688cc>\u001b[0m in \u001b[0;36m<module>\u001b[0;34m()\u001b[0m\n\u001b[1;32m      2\u001b[0m \u001b[0mprint\u001b[0m\u001b[0;34m(\u001b[0m\u001b[0mV\u001b[0m\u001b[0;34m.\u001b[0m\u001b[0mT\u001b[0m\u001b[0;34m[\u001b[0m\u001b[0;34m:\u001b[0m\u001b[0;34m,\u001b[0m\u001b[0;34m-\u001b[0m\u001b[0;36m2\u001b[0m\u001b[0;34m]\u001b[0m\u001b[0;34m)\u001b[0m\u001b[0;34m\u001b[0m\u001b[0m\n\u001b[1;32m      3\u001b[0m \u001b[0mprint\u001b[0m\u001b[0;34m(\u001b[0m\u001b[0mV\u001b[0m\u001b[0;34m.\u001b[0m\u001b[0mT\u001b[0m\u001b[0;34m[\u001b[0m\u001b[0;34m:\u001b[0m\u001b[0;34m,\u001b[0m\u001b[0;34m-\u001b[0m\u001b[0;36m3\u001b[0m\u001b[0;34m]\u001b[0m\u001b[0;34m)\u001b[0m\u001b[0;34m\u001b[0m\u001b[0m\n\u001b[0;32m----> 4\u001b[0;31m \u001b[0mprint\u001b[0m\u001b[0;34m(\u001b[0m\u001b[0mV\u001b[0m\u001b[0;34m.\u001b[0m\u001b[0mT\u001b[0m\u001b[0;34m[\u001b[0m\u001b[0;34m:\u001b[0m\u001b[0;34m,\u001b[0m\u001b[0;34m-\u001b[0m\u001b[0;36m4\u001b[0m\u001b[0;34m]\u001b[0m\u001b[0;34m)\u001b[0m\u001b[0;34m\u001b[0m\u001b[0m\n\u001b[0m",
      "\u001b[0;31mIndexError\u001b[0m: index -4 is out of bounds for axis 1 with size 3"
     ]
    }
   ],
   "source": [
    "print(V.T[:,-1])\n",
    "print(V.T[:,-2])\n",
    "print(V.T[:,-3])\n",
    "print(V.T[:,-4])"
   ]
  },
  {
   "cell_type": "code",
   "execution_count": 285,
   "metadata": {},
   "outputs": [],
   "source": [
    "def svdsolve(a,b):\n",
    "    import numpy as np\n",
    "    u,s,v = np.linalg.svd(a)\n",
    "    c = np.dot(u.T,b)\n",
    "    w = np.linalg.solve(np.diag(s),c)\n",
    "    x = np.dot(v.T,w)\n",
    "    return x"
   ]
  },
  {
   "cell_type": "code",
   "execution_count": 288,
   "metadata": {},
   "outputs": [
    {
     "data": {
      "text/plain": [
       "array([[0.],\n",
       "       [0.],\n",
       "       [0.],\n",
       "       [0.]])"
      ]
     },
     "execution_count": 288,
     "metadata": {},
     "output_type": "execute_result"
    }
   ],
   "source": [
    "B = np.zeros((4,1))\n",
    "B"
   ]
  },
  {
   "cell_type": "code",
   "execution_count": 294,
   "metadata": {},
   "outputs": [
    {
     "ename": "LinAlgError",
     "evalue": "Singular matrix",
     "output_type": "error",
     "traceback": [
      "\u001b[0;31m---------------------------------------------------------------------------\u001b[0m",
      "\u001b[0;31mLinAlgError\u001b[0m                               Traceback (most recent call last)",
      "\u001b[0;32m<ipython-input-294-45d06783c1e8>\u001b[0m in \u001b[0;36m<module>\u001b[0;34m()\u001b[0m\n\u001b[1;32m      1\u001b[0m \u001b[0mA\u001b[0m \u001b[0;34m=\u001b[0m \u001b[0mnp\u001b[0m\u001b[0;34m.\u001b[0m\u001b[0mones\u001b[0m\u001b[0;34m(\u001b[0m\u001b[0;34m(\u001b[0m\u001b[0;36m4\u001b[0m\u001b[0;34m,\u001b[0m\u001b[0;36m5\u001b[0m\u001b[0;34m)\u001b[0m\u001b[0;34m)\u001b[0m\u001b[0;34m\u001b[0m\u001b[0m\n\u001b[0;32m----> 2\u001b[0;31m \u001b[0msvdsolve\u001b[0m\u001b[0;34m(\u001b[0m\u001b[0mA\u001b[0m\u001b[0;34m,\u001b[0m \u001b[0mB\u001b[0m\u001b[0;34m)\u001b[0m\u001b[0;34m\u001b[0m\u001b[0m\n\u001b[0m",
      "\u001b[0;32m<ipython-input-285-c2ec1b341052>\u001b[0m in \u001b[0;36msvdsolve\u001b[0;34m(a, b)\u001b[0m\n\u001b[1;32m      3\u001b[0m     \u001b[0mu\u001b[0m\u001b[0;34m,\u001b[0m\u001b[0ms\u001b[0m\u001b[0;34m,\u001b[0m\u001b[0mv\u001b[0m \u001b[0;34m=\u001b[0m \u001b[0mnp\u001b[0m\u001b[0;34m.\u001b[0m\u001b[0mlinalg\u001b[0m\u001b[0;34m.\u001b[0m\u001b[0msvd\u001b[0m\u001b[0;34m(\u001b[0m\u001b[0ma\u001b[0m\u001b[0;34m)\u001b[0m\u001b[0;34m\u001b[0m\u001b[0m\n\u001b[1;32m      4\u001b[0m     \u001b[0mc\u001b[0m \u001b[0;34m=\u001b[0m \u001b[0mnp\u001b[0m\u001b[0;34m.\u001b[0m\u001b[0mdot\u001b[0m\u001b[0;34m(\u001b[0m\u001b[0mu\u001b[0m\u001b[0;34m.\u001b[0m\u001b[0mT\u001b[0m\u001b[0;34m,\u001b[0m\u001b[0mb\u001b[0m\u001b[0;34m)\u001b[0m\u001b[0;34m\u001b[0m\u001b[0m\n\u001b[0;32m----> 5\u001b[0;31m     \u001b[0mw\u001b[0m \u001b[0;34m=\u001b[0m \u001b[0mnp\u001b[0m\u001b[0;34m.\u001b[0m\u001b[0mlinalg\u001b[0m\u001b[0;34m.\u001b[0m\u001b[0msolve\u001b[0m\u001b[0;34m(\u001b[0m\u001b[0mnp\u001b[0m\u001b[0;34m.\u001b[0m\u001b[0mdiag\u001b[0m\u001b[0;34m(\u001b[0m\u001b[0ms\u001b[0m\u001b[0;34m)\u001b[0m\u001b[0;34m,\u001b[0m\u001b[0mc\u001b[0m\u001b[0;34m)\u001b[0m\u001b[0;34m\u001b[0m\u001b[0m\n\u001b[0m\u001b[1;32m      6\u001b[0m     \u001b[0mx\u001b[0m \u001b[0;34m=\u001b[0m \u001b[0mnp\u001b[0m\u001b[0;34m.\u001b[0m\u001b[0mdot\u001b[0m\u001b[0;34m(\u001b[0m\u001b[0mv\u001b[0m\u001b[0;34m.\u001b[0m\u001b[0mT\u001b[0m\u001b[0;34m,\u001b[0m\u001b[0mw\u001b[0m\u001b[0;34m)\u001b[0m\u001b[0;34m\u001b[0m\u001b[0m\n\u001b[1;32m      7\u001b[0m     \u001b[0;32mreturn\u001b[0m \u001b[0mx\u001b[0m\u001b[0;34m\u001b[0m\u001b[0m\n",
      "\u001b[0;32m~/anaconda3/lib/python3.6/site-packages/numpy/linalg/linalg.py\u001b[0m in \u001b[0;36msolve\u001b[0;34m(a, b)\u001b[0m\n\u001b[1;32m    388\u001b[0m     \u001b[0msignature\u001b[0m \u001b[0;34m=\u001b[0m \u001b[0;34m'DD->D'\u001b[0m \u001b[0;32mif\u001b[0m \u001b[0misComplexType\u001b[0m\u001b[0;34m(\u001b[0m\u001b[0mt\u001b[0m\u001b[0;34m)\u001b[0m \u001b[0;32melse\u001b[0m \u001b[0;34m'dd->d'\u001b[0m\u001b[0;34m\u001b[0m\u001b[0m\n\u001b[1;32m    389\u001b[0m     \u001b[0mextobj\u001b[0m \u001b[0;34m=\u001b[0m \u001b[0mget_linalg_error_extobj\u001b[0m\u001b[0;34m(\u001b[0m\u001b[0m_raise_linalgerror_singular\u001b[0m\u001b[0;34m)\u001b[0m\u001b[0;34m\u001b[0m\u001b[0m\n\u001b[0;32m--> 390\u001b[0;31m     \u001b[0mr\u001b[0m \u001b[0;34m=\u001b[0m \u001b[0mgufunc\u001b[0m\u001b[0;34m(\u001b[0m\u001b[0ma\u001b[0m\u001b[0;34m,\u001b[0m \u001b[0mb\u001b[0m\u001b[0;34m,\u001b[0m \u001b[0msignature\u001b[0m\u001b[0;34m=\u001b[0m\u001b[0msignature\u001b[0m\u001b[0;34m,\u001b[0m \u001b[0mextobj\u001b[0m\u001b[0;34m=\u001b[0m\u001b[0mextobj\u001b[0m\u001b[0;34m)\u001b[0m\u001b[0;34m\u001b[0m\u001b[0m\n\u001b[0m\u001b[1;32m    391\u001b[0m \u001b[0;34m\u001b[0m\u001b[0m\n\u001b[1;32m    392\u001b[0m     \u001b[0;32mreturn\u001b[0m \u001b[0mwrap\u001b[0m\u001b[0;34m(\u001b[0m\u001b[0mr\u001b[0m\u001b[0;34m.\u001b[0m\u001b[0mastype\u001b[0m\u001b[0;34m(\u001b[0m\u001b[0mresult_t\u001b[0m\u001b[0;34m,\u001b[0m \u001b[0mcopy\u001b[0m\u001b[0;34m=\u001b[0m\u001b[0;32mFalse\u001b[0m\u001b[0;34m)\u001b[0m\u001b[0;34m)\u001b[0m\u001b[0;34m\u001b[0m\u001b[0m\n",
      "\u001b[0;32m~/anaconda3/lib/python3.6/site-packages/numpy/linalg/linalg.py\u001b[0m in \u001b[0;36m_raise_linalgerror_singular\u001b[0;34m(err, flag)\u001b[0m\n\u001b[1;32m     87\u001b[0m \u001b[0;34m\u001b[0m\u001b[0m\n\u001b[1;32m     88\u001b[0m \u001b[0;32mdef\u001b[0m \u001b[0m_raise_linalgerror_singular\u001b[0m\u001b[0;34m(\u001b[0m\u001b[0merr\u001b[0m\u001b[0;34m,\u001b[0m \u001b[0mflag\u001b[0m\u001b[0;34m)\u001b[0m\u001b[0;34m:\u001b[0m\u001b[0;34m\u001b[0m\u001b[0m\n\u001b[0;32m---> 89\u001b[0;31m     \u001b[0;32mraise\u001b[0m \u001b[0mLinAlgError\u001b[0m\u001b[0;34m(\u001b[0m\u001b[0;34m\"Singular matrix\"\u001b[0m\u001b[0;34m)\u001b[0m\u001b[0;34m\u001b[0m\u001b[0m\n\u001b[0m\u001b[1;32m     90\u001b[0m \u001b[0;34m\u001b[0m\u001b[0m\n\u001b[1;32m     91\u001b[0m \u001b[0;32mdef\u001b[0m \u001b[0m_raise_linalgerror_nonposdef\u001b[0m\u001b[0;34m(\u001b[0m\u001b[0merr\u001b[0m\u001b[0;34m,\u001b[0m \u001b[0mflag\u001b[0m\u001b[0;34m)\u001b[0m\u001b[0;34m:\u001b[0m\u001b[0;34m\u001b[0m\u001b[0m\n",
      "\u001b[0;31mLinAlgError\u001b[0m: Singular matrix"
     ]
    }
   ],
   "source": [
    "A = np.ones((4,5))\n",
    "svdsolve(A, B)"
   ]
  },
  {
   "cell_type": "code",
   "execution_count": 296,
   "metadata": {},
   "outputs": [],
   "source": [
    "intercept = -10\n",
    "slope = 3\n",
    "npts = 50\n",
    "noise = 80\n",
    "xs = 10 + np.random.rand(npts, 1) * 90;\n",
    "ys = slope * xs + intercept + np.random.rand(npts, 1) * noise;"
   ]
  },
  {
   "cell_type": "code",
   "execution_count": 299,
   "metadata": {},
   "outputs": [
    {
     "data": {
      "text/plain": [
       "[<matplotlib.lines.Line2D at 0x818e25668>]"
      ]
     },
     "execution_count": 299,
     "metadata": {},
     "output_type": "execute_result"
    },
    {
     "data": {
      "image/png": "[encoded data removed]",
      "text/plain": [
       "<Figure size 432x288 with 1 Axes>"
      ]
     },
     "metadata": {},
     "output_type": "display_data"
    }
   ],
   "source": [
    "import matplotlib.pyplot as plt\n",
    "plt.plot(xs, ys, 'ok')"
   ]
  },
  {
   "cell_type": "code",
   "execution_count": 302,
   "metadata": {},
   "outputs": [
    {
     "ename": "TypeError",
     "evalue": "data type not understood",
     "output_type": "error",
     "traceback": [
      "\u001b[0;31m---------------------------------------------------------------------------\u001b[0m",
      "\u001b[0;31mTypeError\u001b[0m                                 Traceback (most recent call last)",
      "\u001b[0;32m<ipython-input-302-388ae0f82055>\u001b[0m in \u001b[0;36m<module>\u001b[0;34m()\u001b[0m\n\u001b[0;32m----> 1\u001b[0;31m \u001b[0mA\u001b[0m \u001b[0;34m=\u001b[0m \u001b[0;34m[\u001b[0m\u001b[0mxs\u001b[0m\u001b[0;34m,\u001b[0m \u001b[0mys\u001b[0m\u001b[0;34m,\u001b[0m \u001b[0;34m-\u001b[0m\u001b[0;36m1\u001b[0m \u001b[0;34m*\u001b[0m \u001b[0mnp\u001b[0m\u001b[0;34m.\u001b[0m\u001b[0mones\u001b[0m\u001b[0;34m(\u001b[0m\u001b[0mnpts\u001b[0m\u001b[0;34m,\u001b[0m \u001b[0;36m1\u001b[0m\u001b[0;34m)\u001b[0m\u001b[0;34m]\u001b[0m\u001b[0;34m\u001b[0m\u001b[0m\n\u001b[0m\u001b[1;32m      2\u001b[0m \u001b[0;34m[\u001b[0m\u001b[0mU\u001b[0m\u001b[0;34m,\u001b[0m \u001b[0mS\u001b[0m\u001b[0;34m,\u001b[0m \u001b[0mV\u001b[0m\u001b[0;34m]\u001b[0m \u001b[0;34m=\u001b[0m \u001b[0msvd\u001b[0m\u001b[0;34m(\u001b[0m\u001b[0mA\u001b[0m\u001b[0;34m)\u001b[0m\u001b[0;34m\u001b[0m\u001b[0m\n\u001b[1;32m      3\u001b[0m \u001b[0;31m# fit = V(:, end - 1);\u001b[0m\u001b[0;34m\u001b[0m\u001b[0;34m\u001b[0m\u001b[0m\n",
      "\u001b[0;32m~/anaconda3/lib/python3.6/site-packages/numpy/core/numeric.py\u001b[0m in \u001b[0;36mones\u001b[0;34m(shape, dtype, order)\u001b[0m\n\u001b[1;32m    186\u001b[0m \u001b[0;34m\u001b[0m\u001b[0m\n\u001b[1;32m    187\u001b[0m     \"\"\"\n\u001b[0;32m--> 188\u001b[0;31m     \u001b[0ma\u001b[0m \u001b[0;34m=\u001b[0m \u001b[0mempty\u001b[0m\u001b[0;34m(\u001b[0m\u001b[0mshape\u001b[0m\u001b[0;34m,\u001b[0m \u001b[0mdtype\u001b[0m\u001b[0;34m,\u001b[0m \u001b[0morder\u001b[0m\u001b[0;34m)\u001b[0m\u001b[0;34m\u001b[0m\u001b[0m\n\u001b[0m\u001b[1;32m    189\u001b[0m     \u001b[0mmultiarray\u001b[0m\u001b[0;34m.\u001b[0m\u001b[0mcopyto\u001b[0m\u001b[0;34m(\u001b[0m\u001b[0ma\u001b[0m\u001b[0;34m,\u001b[0m \u001b[0;36m1\u001b[0m\u001b[0;34m,\u001b[0m \u001b[0mcasting\u001b[0m\u001b[0;34m=\u001b[0m\u001b[0;34m'unsafe'\u001b[0m\u001b[0;34m)\u001b[0m\u001b[0;34m\u001b[0m\u001b[0m\n\u001b[1;32m    190\u001b[0m     \u001b[0;32mreturn\u001b[0m \u001b[0ma\u001b[0m\u001b[0;34m\u001b[0m\u001b[0m\n",
      "\u001b[0;31mTypeError\u001b[0m: data type not understood"
     ]
    }
   ],
   "source": [
    "A = xs\n",
    "A = np.append(A, ys, axis=1)\n",
    "A = np.append(A, np.ones((npts,1)), axis=1)"
   ]
  },
  {
   "cell_type": "code",
   "execution_count": 315,
   "metadata": {},
   "outputs": [],
   "source": [
    "\n",
    "[U, S, V] = np.linalg.svd(A)"
   ]
  },
  {
   "cell_type": "code",
   "execution_count": 368,
   "metadata": {},
   "outputs": [
    {
     "data": {
      "text/plain": [
       "array([1474.76920607,   54.1253344 ,    2.76687671])"
      ]
     },
     "execution_count": 368,
     "metadata": {},
     "output_type": "execute_result"
    }
   ],
   "source": [
    "S\n"
   ]
  },
  {
   "cell_type": "code",
   "execution_count": 348,
   "metadata": {},
   "outputs": [
    {
     "data": {
      "text/plain": [
       "array([ 0.96203805, -0.27269967, -0.01084772])"
      ]
     },
     "execution_count": 348,
     "metadata": {},
     "output_type": "execute_result"
    }
   ],
   "source": [
    "V.T[:,-2]"
   ]
  },
  {
   "cell_type": "code",
   "execution_count": 351,
   "metadata": {},
   "outputs": [],
   "source": [
    "fit = V.T[:, -3]\n",
    "a = fit[0]\n",
    "b = fit[1]\n",
    "c = fit[2]"
   ]
  },
  {
   "cell_type": "code",
   "execution_count": 352,
   "metadata": {},
   "outputs": [],
   "source": [
    "slope_est = -a / b\n",
    "intercept_est = c / b"
   ]
  },
  {
   "cell_type": "code",
   "execution_count": 353,
   "metadata": {},
   "outputs": [
    {
     "data": {
      "image/png": "[encoded data removed]",
      "text/plain": [
       "<Figure size 432x288 with 1 Axes>"
      ]
     },
     "metadata": {},
     "output_type": "display_data"
    }
   ],
   "source": [
    "fig, ax = plt.subplots(1,1)\n",
    "ys_est = slope_est * xs + intercept_est;\n",
    "plt.plot(xs, ys, 'b.', 'MarkerSize', 5);\n",
    "\n",
    "plt.plot(xs, ys_est, 'r-')\n",
    "plt.show()"
   ]
  },
  {
   "cell_type": "code",
   "execution_count": 366,
   "metadata": {},
   "outputs": [
    {
     "data": {
      "text/plain": [
       "2"
      ]
     },
     "execution_count": 366,
     "metadata": {},
     "output_type": "execute_result"
    }
   ],
   "source": [
    "a = [1,2,3]\n",
    "a[-2]"
   ]
  },
  {
   "cell_type": "code",
   "execution_count": 405,
   "metadata": {},
   "outputs": [],
   "source": [
    "A = np.random.rand(4,3)"
   ]
  },
  {
   "cell_type": "code",
   "execution_count": 406,
   "metadata": {},
   "outputs": [
    {
     "data": {
      "text/plain": [
       "array([[0.76331104, 0.21994683, 0.80963732],\n",
       "       [0.35125526, 0.17476286, 0.32318003],\n",
       "       [0.44314112, 0.93743829, 0.46130301],\n",
       "       [0.8516102 , 0.91703963, 0.85416357]])"
      ]
     },
     "execution_count": 406,
     "metadata": {},
     "output_type": "execute_result"
    }
   ],
   "source": [
    "A"
   ]
  },
  {
   "cell_type": "code",
   "execution_count": 407,
   "metadata": {},
   "outputs": [],
   "source": [
    "U, S, V = np.linalg.svd(A)"
   ]
  },
  {
   "cell_type": "code",
   "execution_count": 408,
   "metadata": {},
   "outputs": [
    {
     "data": {
      "text/plain": [
       "array([2.17635999, 0.62526524, 0.03410653])"
      ]
     },
     "execution_count": 408,
     "metadata": {},
     "output_type": "execute_result"
    }
   ],
   "source": [
    "S"
   ]
  },
  {
   "cell_type": "code",
   "execution_count": 402,
   "metadata": {},
   "outputs": [],
   "source": [
    "x = V[-1,:]\n",
    "y = V.T[:,-1]"
   ]
  },
  {
   "cell_type": "code",
   "execution_count": 403,
   "metadata": {},
   "outputs": [
    {
     "name": "stdout",
     "output_type": "stream",
     "text": [
      "[-0.68521892 -0.11479865  0.71923313]\n",
      "[-0.68521892 -0.11479865  0.71923313]\n"
     ]
    }
   ],
   "source": [
    "print(x)\n",
    "print(y)"
   ]
  },
  {
   "cell_type": "code",
   "execution_count": 404,
   "metadata": {},
   "outputs": [
    {
     "data": {
      "text/plain": [
       "array([ 0.00577564, -0.00919152, -0.01403139,  0.01179574])"
      ]
     },
     "execution_count": 404,
     "metadata": {},
     "output_type": "execute_result"
    }
   ],
   "source": [
    "np.dot(A, x)"
   ]
  },
  {
   "cell_type": "code",
   "execution_count": 418,
   "metadata": {},
   "outputs": [],
   "source": [
    "A[1,:] = A[0,:]\n",
    "A[2,:] = A[3,:]"
   ]
  },
  {
   "cell_type": "code",
   "execution_count": 419,
   "metadata": {},
   "outputs": [
    {
     "data": {
      "text/plain": [
       "array([[0.76331104, 0.21994683, 0.80963732],\n",
       "       [0.76331104, 0.21994683, 0.80963732],\n",
       "       [0.8516102 , 0.91703963, 0.85416357],\n",
       "       [0.8516102 , 0.91703963, 0.85416357]])"
      ]
     },
     "execution_count": 419,
     "metadata": {},
     "output_type": "execute_result"
    }
   ],
   "source": [
    "A"
   ]
  },
  {
   "cell_type": "code",
   "execution_count": 420,
   "metadata": {},
   "outputs": [],
   "source": [
    "U, S, V = np.linalg.svd(A)"
   ]
  },
  {
   "cell_type": "code",
   "execution_count": 421,
   "metadata": {},
   "outputs": [
    {
     "data": {
      "text/plain": [
       "array([2.61338058e+00, 5.78707063e-01, 7.36467166e-17])"
      ]
     },
     "execution_count": 421,
     "metadata": {},
     "output_type": "execute_result"
    }
   ],
   "source": [
    "S"
   ]
  },
  {
   "cell_type": "code",
   "execution_count": 422,
   "metadata": {},
   "outputs": [
    {
     "data": {
      "text/plain": [
       "array([-1.11022302e-16, -1.11022302e-16, -1.11022302e-16, -1.11022302e-16])"
      ]
     },
     "execution_count": 422,
     "metadata": {},
     "output_type": "execute_result"
    }
   ],
   "source": [
    "x = V[-1,:]\n",
    "y = V.T[:,-1]\n",
    "np.dot(A, x)"
   ]
  },
  {
   "cell_type": "code",
   "execution_count": 423,
   "metadata": {},
   "outputs": [
    {
     "data": {
      "text/plain": [
       "array([ 0.73341128, -0.0495945 , -0.67797366])"
      ]
     },
     "execution_count": 423,
     "metadata": {},
     "output_type": "execute_result"
    }
   ],
   "source": [
    "x"
   ]
  },
  {
   "cell_type": "code",
   "execution_count": 424,
   "metadata": {},
   "outputs": [
    {
     "data": {
      "text/plain": [
       "array([ 0.73341128, -0.0495945 , -0.67797366])"
      ]
     },
     "execution_count": 424,
     "metadata": {},
     "output_type": "execute_result"
    }
   ],
   "source": [
    "y"
   ]
  },
  {
   "cell_type": "code",
   "execution_count": 430,
   "metadata": {},
   "outputs": [],
   "source": [
    "A = np.zeros((5,1))"
   ]
  },
  {
   "cell_type": "code",
   "execution_count": 431,
   "metadata": {},
   "outputs": [
    {
     "data": {
      "text/plain": [
       "array([[0.],\n",
       "       [0.],\n",
       "       [0.],\n",
       "       [0.],\n",
       "       [0.]])"
      ]
     },
     "execution_count": 431,
     "metadata": {},
     "output_type": "execute_result"
    }
   ],
   "source": [
    "A"
   ]
  },
  {
   "cell_type": "code",
   "execution_count": 436,
   "metadata": {},
   "outputs": [],
   "source": [
    "B = np.array([0,1,2,3,4])[np.newaxis]\n",
    "C = np.append(A, B.T, axis=1)"
   ]
  },
  {
   "cell_type": "code",
   "execution_count": 440,
   "metadata": {},
   "outputs": [],
   "source": [
    "C = C.T"
   ]
  },
  {
   "cell_type": "code",
   "execution_count": 441,
   "metadata": {},
   "outputs": [
    {
     "data": {
      "text/plain": [
       "array([[0., 0., 0., 0., 0.],\n",
       "       [0., 1., 2., 3., 4.]])"
      ]
     },
     "execution_count": 441,
     "metadata": {},
     "output_type": "execute_result"
    }
   ],
   "source": [
    "C"
   ]
  },
  {
   "cell_type": "code",
   "execution_count": 442,
   "metadata": {},
   "outputs": [],
   "source": [
    "C = C.T"
   ]
  },
  {
   "cell_type": "code",
   "execution_count": 443,
   "metadata": {},
   "outputs": [
    {
     "data": {
      "text/plain": [
       "array([[0., 0.],\n",
       "       [0., 1.],\n",
       "       [0., 2.],\n",
       "       [0., 3.],\n",
       "       [0., 4.]])"
      ]
     },
     "execution_count": 443,
     "metadata": {},
     "output_type": "execute_result"
    }
   ],
   "source": [
    "C"
   ]
  },
  {
   "cell_type": "code",
   "execution_count": 444,
   "metadata": {},
   "outputs": [
    {
     "data": {
      "text/plain": [
       "<cell_describe.colony at 0x109c998d0>"
      ]
     },
     "execution_count": 444,
     "metadata": {},
     "output_type": "execute_result"
    }
   ],
   "source": [
    "col1"
   ]
  },
  {
   "cell_type": "code",
   "execution_count": 446,
   "metadata": {},
   "outputs": [],
   "source": [
    "self = col1"
   ]
  },
  {
   "cell_type": "code",
   "execution_count": 467,
   "metadata": {},
   "outputs": [],
   "source": [
    "nodes = self.nodes\n",
    "edges = self.edges\n",
    "\n",
    "# solve y = Ax\n",
    "# initialize A\n",
    "A = np.zeros((len(edges), 1))\n",
    "y = np.zeros(len(edges))\n",
    "\n",
    "\n",
    "for node in nodes:\n",
    "    # node.edges should give the same edge as the edge corresponding to node.tension_vectors since they are added together\n",
    "    # only want to add indices of edges that are part of colony edge list\n",
    "    temp = np.zeros((len(edges),1))\n",
    "    indices = np.array([edges.index(x) for x in node.edges if x in edges])\n",
    "    # only want to consider horizontal vectors that are a part of the colony edge list \n",
    "    horizontal_vectors = np.array([x[0] for x in node.tension_vectors if node.edges[node.tension_vectors.index(x)] in edges])[np.newaxis]\n",
    "    temp[indices] = horizontal_vectors.T\n",
    "    A = np.append(A, temp, axis=1)\n",
    "    temp = np.zeros((len(edges),1))\n",
    "    vertical_vectors = np.array([x[1] for x in node.tension_vectors if node.edges[node.tension_vectors.index(x)] in edges])[np.newaxis]\n",
    "    temp[indices] = vertical_vectors.T\n",
    "    A = np.append(A, temp, axis=1)\n",
    "\n",
    "A = A.T\n",
    "U, S, V = np.linalg.svd(A)\n",
    "tensions = V.T[:,-1]"
   ]
  },
  {
   "cell_type": "code",
   "execution_count": 468,
   "metadata": {},
   "outputs": [
    {
     "data": {
      "text/plain": [
       "array([ 0.53288497, -0.41780452, -0.25827995,  0.47798046,  0.31791743,\n",
       "       -0.02991689, -0.37991133])"
      ]
     },
     "execution_count": 468,
     "metadata": {},
     "output_type": "execute_result"
    }
   ],
   "source": [
    "tensions"
   ]
  },
  {
   "cell_type": "code",
   "execution_count": 11,
   "metadata": {},
   "outputs": [],
   "source": [
    "import numpy as np\n",
    "b = [2,2]\n",
    "a = [0,0]\n",
    "\n",
    "center = 0.5*np.subtract(b, a)+a # midpoint\n",
    "perp_a = np.array((a[0]-center[0], (a[1]-center[1])))\n",
    "# np.seterr(divide='ignore', invalid='ignore')\n",
    "# perp_a = perp_a/np.linalg.norm(perp_a)\n",
    "perp_b = np.array(((b[0]-center[0]), b[1]-center[1]))\n",
    "# np.seterr(divide='ignore', invalid='ignore')\n",
    "# perp_b = perp_b/np.linalg.norm(perp_b)"
   ]
  },
  {
   "cell_type": "code",
   "execution_count": 12,
   "metadata": {},
   "outputs": [
    {
     "data": {
      "text/plain": [
       "array([-1., -1.])"
      ]
     },
     "execution_count": 12,
     "metadata": {},
     "output_type": "execute_result"
    }
   ],
   "source": [
    "perp_a"
   ]
  },
  {
   "cell_type": "code",
   "execution_count": 13,
   "metadata": {},
   "outputs": [
    {
     "data": {
      "text/plain": [
       "array([1., 1.])"
      ]
     },
     "execution_count": 13,
     "metadata": {},
     "output_type": "execute_result"
    }
   ],
   "source": [
    "center"
   ]
  },
  {
   "cell_type": "code",
   "execution_count": 14,
   "metadata": {},
   "outputs": [
    {
     "data": {
      "text/plain": [
       "array([1., 1.])"
      ]
     },
     "execution_count": 14,
     "metadata": {},
     "output_type": "execute_result"
    }
   ],
   "source": [
    "perp_b"
   ]
  },
  {
   "cell_type": "code",
   "execution_count": 15,
   "metadata": {},
   "outputs": [
    {
     "data": {
      "text/plain": [
       "array(0.)"
      ]
     },
     "execution_count": 15,
     "metadata": {},
     "output_type": "execute_result"
    }
   ],
   "source": [
    "np.cross(perp_a, perp_b)"
   ]
  },
  {
   "cell_type": "code",
   "execution_count": 22,
   "metadata": {},
   "outputs": [],
   "source": [
    "vec = np.array([-1, -2.5])"
   ]
  },
  {
   "cell_type": "code",
   "execution_count": 23,
   "metadata": {},
   "outputs": [
    {
     "data": {
      "text/plain": [
       "array(1.5)"
      ]
     },
     "execution_count": 23,
     "metadata": {},
     "output_type": "execute_result"
    }
   ],
   "source": [
    "np.cross(perp_a, vec)"
   ]
  },
  {
   "cell_type": "code",
   "execution_count": null,
   "metadata": {},
   "outputs": [],
   "source": []
  }
 ],
 "metadata": {
  "kernelspec": {
   "display_name": "Python 3",
   "language": "python",
   "name": "python3"
  },
  "language_info": {
   "codemirror_mode": {
    "name": "ipython",
    "version": 3
   },
   "file_extension": ".py",
   "mimetype": "text/x-python",
   "name": "python",
   "nbconvert_exporter": "python",
   "pygments_lexer": "ipython3",
   "version": "3.6.5"
  }
 },
 "nbformat": 4,
 "nbformat_minor": 2
}
