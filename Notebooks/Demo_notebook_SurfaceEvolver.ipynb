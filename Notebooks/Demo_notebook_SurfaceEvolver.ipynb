{
 "cells": [
  {
   "cell_type": "markdown",
   "metadata": {},
   "source": [
    "# Import general classes"
   ]
  },
  {
   "cell_type": "code",
   "execution_count": 1,
   "metadata": {},
   "outputs": [],
   "source": [
    "import pandas as pd\n",
    "import seaborn as sns\n",
    "import numpy as np\n",
    "import pickle\n",
    "import os\n",
    "import sys\n",
    "import pylab\n",
    "import matplotlib.pyplot as plt"
   ]
  },
  {
   "cell_type": "markdown",
   "metadata": {},
   "source": [
    "# Import DLITE classes"
   ]
  },
  {
   "cell_type": "markdown",
   "metadata": {},
   "source": [
    "We import 8 classes -  node, edge, cell, colony, data, ManualTracing, ManualTracingMultiple, SurfaceEvolver\n",
    "\n",
    "Node defines (x,y) location of all edge-edge intersections\n",
    "\n",
    "Edge defines co-ordinates, directed curvature and end nodes of all cell-cell intersections\n",
    "\n",
    "Cell defines perimeter, area and all edges and nodes comprising a cycle of edges\n",
    "\n",
    "Colony defines all cells in a given image \n",
    "\n",
    "Data defines a colony from pickle file formats generated at AICS\n",
    "\n",
    "ManualTracing defines a colony from Manual tracing of images generated using NeuronJ \n",
    "\n",
    "ManualTracingMultiple defines colonies at multiple time points each of which is manually traced out using NeuronJ\n",
    "\n",
    "SurfaceEvolver defines colonies from multiple txt files generated from Surface Evolver "
   ]
  },
  {
   "cell_type": "code",
   "execution_count": 2,
   "metadata": {},
   "outputs": [],
   "source": [
    "from DLITE.cell_describe import node, edge, cell, colony\n",
    "from DLITE.ManualTracingMultiple import ManualTracingMultiple\n",
    "from DLITE.SurfaceEvolver import SurfaceEvolver\n",
    "from DLITE.PlottingFunctions import PlottingFunctions"
   ]
  },
  {
   "cell_type": "markdown",
   "metadata": {},
   "source": [
    "# Define the dataset"
   ]
  },
  {
   "cell_type": "markdown",
   "metadata": {},
   "source": [
    "SurfaceEvolver can read txt files of the form (name_first + number + name_end). For example, name_first = 'voronoi_very_small_44_edges_tension_edges_20_30_', number = 0.9, name_end = '.fe.txt' is a txt file with the name \n",
    "'voronoi_very_small_44_edges_tension_edges_20_30_0.9.fe.txt'. Here, we have 10 timepoints."
   ]
  },
  {
   "cell_type": "code",
   "execution_count": 3,
   "metadata": {},
   "outputs": [],
   "source": [
    "os.chdir(r'../Notebooks/data/Synthetic_data/Fig_5')\n",
    "timepoints = [int(i)/10 for i in np.linspace(10, 3, 7)]\n",
    "name_first = 'voronoi_very_small_44_edges_tension_edges_20_30_'\n",
    "name_end = '.fe.txt'"
   ]
  },
  {
   "cell_type": "code",
   "execution_count": 4,
   "metadata": {},
   "outputs": [
    {
     "data": {
      "text/plain": [
       "[1.0, 0.8, 0.7, 0.6, 0.5, 0.4, 0.3]"
      ]
     },
     "execution_count": 4,
     "metadata": {},
     "output_type": "execute_result"
    }
   ],
   "source": [
    "timepoints"
   ]
  },
  {
   "cell_type": "code",
   "execution_count": 5,
   "metadata": {},
   "outputs": [],
   "source": [
    "SurfaceEvolverInstance = SurfaceEvolver(name_first, name_end)"
   ]
  },
  {
   "cell_type": "markdown",
   "metadata": {},
   "source": [
    "# Computation"
   ]
  },
  {
   "cell_type": "markdown",
   "metadata": {},
   "source": [
    "Given timepoints and an instance of the SurfaceEvolver class, we can compute dynamic cell-cell forces and store it in a dictionary named colonies as follows"
   ]
  },
  {
   "cell_type": "code",
   "execution_count": 6,
   "metadata": {
    "scrolled": false
   },
   "outputs": [
    {
     "name": "stdout",
     "output_type": "stream",
     "text": [
      "Name is voronoi_very_small_44_edges_tension_edges_20_30_1.0.fe.txt\n",
      "Number of fit edges: 25\n",
      "Length of cpresses 2 2\n",
      "ground_truth [1.0, 1.0, 1.0, 1.0, 1.0, 1.0, 1.0, 1.0, 1.0, 1.0, 1.0, 1.0, 1.0, 1.0, 1.0, 1.0, 1.0, 1.0, 1.0, 1.0, 1.0, 1.0, 1.0, 1.0, 1.0]\n",
      "Number of cells: 2\n",
      "Ground truth pressure [0.0354125890472057, 0.0374150650750098]\n",
      "guess is [0.97, 0.77, 0.44, 0.31, 0.97, 0.56, 0.47, 0.34, 0.11, 0.32, 0.75, 0.81, 0.2, 0.34, 0.81, 0.57, 0.11, 1.0, 0.38, 0.68, 0.29, 0.55, 0.74, 0.39, 0.97]\n",
      "Function value 0.010664363902696363\n",
      "Solution [0.66387354 0.6682409  0.66264589 0.6644303  0.66192072 0.66375932\n",
      " 0.66407343 0.66618414 0.65526967 0.66037163 0.66077761 0.64957161\n",
      " 0.66937354 0.6618874  0.65987203 0.67137126 0.66351612 0.66030398\n",
      " 0.64992576 0.64598915 0.65172171 0.65334876 0.66514908 0.6484927\n",
      " 0.66208142]\n",
      "\n",
      "\n",
      "-----------------------------\n",
      "all same\n",
      "guess pressure is [0.0015142194581894565, 0.0015142194581894565]\n",
      "Function value 3.219693784545142e-22\n",
      "Solution [0.00090317 0.00212526]\n",
      "\n",
      "\n",
      "-----------------------------\n",
      "Solver is DLITE\n",
      "First colony {'0': <DLITE.cell_describe.colony object at 0x11d22ef98>}\n",
      "Number now is 0.8\n",
      "Number of fit edges: 25\n",
      "Length of cpresses 2 2\n",
      "ground_truth [1.079447322970639, 1.079447322970639, 1.079447322970639, 1.079447322970639, 1.079447322970639, 1.079447322970639, 1.079447322970639, 0.8635578583765112, 0.8875455766647478, 0.8635578583765112, 0.8635578583765112, 0.8635578583765112, 0.8635578583765112, 0.8635578583765112, 0.8635578583765112, 0.8635578583765112, 1.0554596046824027, 1.0578583765112264, 1.079447322970639, 1.079447322970639, 1.079447322970639, 1.079447322970639, 1.079447322970639, 1.0578583765112264, 1.079447322970639]\n",
      "Number of cells: 2\n",
      "Ground truth pressure [0.0255820288425172, 0.0394635713710557]\n",
      "old cells\n",
      "[0, 1]\n",
      "new cells\n",
      "[0, 1]\n",
      "[0, 1]\n",
      "guess is [0.6638735437745545, 0.6682408955824894, 0.6626458945798086, 0.6644302999610116, 0.6619207216866042, 0.6637593223005053, 0.6640734288068822, 0.6661841403072252, 0.6552696653902822, 0.6603716346702382, 0.6607776060281474, 0.6495716074707646, 0.6693735437747418, 0.6618873996985378, 0.659872029878619, 0.6713712571632018, 0.6635161216448007, 0.660303981837508, 0.6499257564348191, 0.64598914640713, 0.6517217103113095, 0.653348763816839, 0.6651490847647163, 0.6484927044809615, 0.6620814159191412]\n"
     ]
    },
    {
     "name": "stderr",
     "output_type": "stream",
     "text": [
      "/Users/ritvikvasan/Documents/repos/DLITE/DLITE/cell_describe.py:1321: RuntimeWarning: invalid value encountered in double_scalars\n",
      "  objective = objective + resid_mag + coeff * resid_mag/np.sum(tension_vec_mags)\n"
     ]
    },
    {
     "name": "stdout",
     "output_type": "stream",
     "text": [
      "Function value nan\n",
      "Solution [0.72137068 0.72583639 0.72006098 0.72489655 0.7198676  0.72109873\n",
      " 0.72188924 0.5852353  0.562196   0.57405779 0.57338571 0.55658589\n",
      " 0.58225333 0.57246618 0.57224732 0.58971559 0.71789707 0.7148731\n",
      " 0.71017101 0.70611538 0.71212587 0.71203946 0.72542232 0.70864829\n",
      " 0.72262262]\n",
      "\n",
      "\n",
      "-----------------------------\n",
      "all same\n",
      "guess pressure is [0.0021252605216438027, 0.0021252605216438027]\n",
      "Function value 2.648015057836162e-22\n",
      "Solution [-0.00299731  0.00724783]\n",
      "\n",
      "\n",
      "-----------------------------\n",
      "Next colony number 1\n",
      "Number now is 0.7\n",
      "Number of fit edges: 25\n",
      "Length of cpresses 2 2\n",
      "ground_truth [1.1241007194244603, 1.1241007194244603, 1.1241007194244603, 1.1241007194244603, 1.1241007194244603, 1.1241007194244603, 1.1241007194244603, 0.7868705035971222, 0.8243405275779375, 0.7868705035971222, 0.7868705035971222, 0.7868705035971222, 0.7868705035971222, 0.7868705035971222, 0.7868705035971222, 0.7868705035971222, 1.0866306954436449, 1.0903776978417266, 1.1241007194244603, 1.1241007194244603, 1.1241007194244603, 1.1241007194244603, 1.1241007194244603, 1.0903776978417266, 1.1241007194244603]\n",
      "Number of cells: 2\n",
      "Ground truth pressure [0.0206118230601731, 0.0406825640828935]\n",
      "old cells\n",
      "[0, 1]\n",
      "new cells\n",
      "[0, 1]\n",
      "[0, 1]\n",
      "guess is [0.7213706775112947, 0.725836385811502, 0.720060984955754, 0.7248965520034215, 0.7198675973136442, 0.7210987273974483, 0.7218892354029122, 0.5852353032939412, 0.5621959950206883, 0.5740577937411411, 0.5733857124967903, 0.5565858883192744, 0.5822533318982565, 0.5724661846785312, 0.5722473232458024, 0.5897155882733827, 0.7178970652424049, 0.7148731029704448, 0.7101710089329369, 0.7061153803275155, 0.7121258653093226, 0.7120394593954407, 0.7254223243142646, 0.7086482905683442, 0.7226226248490317]\n",
      "Function value 0.03691075068783585\n",
      "Solution [0.74976171 0.75428837 0.74841387 0.75657652 0.7478167  0.75062953\n",
      " 0.75321071 0.54270213 0.50919027 0.52485903 0.52549725 0.5048235\n",
      " 0.53449549 0.52295253 0.51767638 0.54026836 0.74969781 0.74583927\n",
      " 0.73858432 0.73444049 0.74094293 0.73988723 0.75361451 0.73775246\n",
      " 0.75120494]\n",
      "\n",
      "\n",
      "-----------------------------\n",
      "all same\n",
      "guess pressure is [0.007247827948750864, 0.007247827948750864]\n",
      "Function value 9.668904922854625e-22\n",
      "Solution [-0.00060208  0.01509773]\n",
      "\n",
      "\n",
      "-----------------------------\n",
      "Next colony number 2\n",
      "Number now is 0.6\n",
      "Number of fit edges: 25\n",
      "Length of cpresses 2 2\n",
      "ground_truth [1.172607879924953, 1.172607879924953, 1.172607879924953, 1.172607879924953, 1.172607879924953, 1.172607879924953, 1.172607879924953, 0.7035647279549718, 0.7556806337294142, 0.7035647279549718, 0.7035647279549718, 0.7035647279549718, 0.7035647279549718, 0.7035647279549718, 0.7035647279549718, 0.7035647279549718, 1.1204919741505106, 1.125703564727955, 1.172607879924953, 1.172607879924953, 1.172607879924953, 1.172607879924953, 1.172607879924953, 1.125703564727955, 1.172607879924953]\n",
      "Number of cells: 2\n",
      "Ground truth pressure [0.014708357136031, 0.041028844655557]\n",
      "old cells\n",
      "[0, 1]\n",
      "new cells\n",
      "[0, 1]\n",
      "[0, 1]\n",
      "guess is [0.7497617128143883, 0.754288374872037, 0.74841387252553, 0.7565765179191916, 0.747816702187177, 0.7506295331122431, 0.7532107052876377, 0.5427021253868403, 0.5091902667184243, 0.5248590298617287, 0.5254972461610652, 0.5048234964167719, 0.5344954919214592, 0.5229525292616581, 0.5176763828811963, 0.5402683614569878, 0.749697813253335, 0.7458392712711438, 0.738584320243759, 0.7344404917111765, 0.7409429252559049, 0.7398872274283738, 0.7536145129676342, 0.7377524632996996, 0.7512049383280861]\n",
      "Function value 0.09625444804055466\n",
      "Solution [0.77598089 0.78041843 0.77435202 0.78615401 0.7733293  0.77655188\n",
      " 0.78270838 0.49770615 0.44881025 0.46773889 0.46545088 0.44605726\n",
      " 0.48957469 0.47248911 0.45670145 0.49072133 0.78712863 0.76582093\n",
      " 0.76701557 0.76305062 0.76468032 0.76307081 0.78169484 0.75683517\n",
      " 0.77465366]\n",
      "\n",
      "\n",
      "-----------------------------\n",
      "all same\n",
      "guess pressure is [0.015097727778415181, 0.015097727778415181]\n",
      "Function value 2.5366394680386726e-20\n",
      "Solution [0.00435058 0.02584487]\n",
      "\n",
      "\n",
      "-----------------------------\n",
      "Next colony number 3\n",
      "Number now is 0.5\n",
      "Number of fit edges: 25\n",
      "Length of cpresses 2 2\n",
      "ground_truth [1.2254901960784315, 1.2254901960784315, 1.2254901960784315, 1.2254901960784315, 1.2254901960784315, 1.2254901960784315, 1.2254901960784315, 0.6127450980392157, 0.6808278867102397, 0.6127450980392157, 0.6127450980392157, 0.6127450980392157, 0.6127450980392157, 0.6127450980392157, 0.6127450980392157, 0.6127450980392157, 1.1574074074074074, 1.1642156862745099, 1.2254901960784315, 1.2254901960784315, 1.2254901960784315, 1.2254901960784315, 1.2254901960784315, 1.1642156862745099, 1.2254901960784315]\n",
      "Number of cells: 2\n",
      "Ground truth pressure [0.0134905440464041, 0.0509151670057664]\n",
      "old cells\n",
      "[0, 1]\n",
      "new cells\n",
      "[0, 1]\n",
      "[0, 1]\n",
      "guess is [0.7759808920763096, 0.7804184313990203, 0.7743520175723875, 0.7861540145933958, 0.7733292964942445, 0.7765518761432001, 0.7827083816682198, 0.4977061517193941, 0.448810253298373, 0.4677388898080548, 0.4654508845308999, 0.4460572630321668, 0.4895746854577775, 0.47248910861098964, 0.45670144597506507, 0.49072132603269975, 0.7871286278073376, 0.7658209293880339, 0.7670155714607053, 0.7630506174036763, 0.76468032357028, 0.7630708103266757, 0.7816948389311059, 0.7568351690554503, 0.77465365838471]\n",
      "Function value 0.07669533243763896\n",
      "Solution [0.8500284  0.85691904 0.84593783 0.85366195 0.84276446 0.84746973\n",
      " 0.85340343 0.44742717 0.38151873 0.42558589 0.42398117 0.38211848\n",
      " 0.44452666 0.43155463 0.42308364 0.37890427 0.81702757 0.7719755\n",
      " 0.73169234 0.73036846 0.73758421 0.73421561 0.74607116 0.73600113\n",
      " 0.74076432]\n",
      "\n",
      "\n",
      "-----------------------------\n",
      "all same\n",
      "guess pressure is [0.02584487269596971, 0.02584487269596971]\n",
      "Function value 3.32825372340308e-20\n",
      "Solution [0.01299579 0.03869395]\n",
      "\n",
      "\n",
      "-----------------------------\n",
      "Next colony number 4\n",
      "Number now is 0.4\n",
      "Number of fit edges: 25\n",
      "Length of cpresses 2 2\n",
      "ground_truth [1.2833675564681726, 1.2833675564681726, 1.2833675564681726, 1.2833675564681726, 1.2833675564681726, 1.2833675564681726, 1.2833675564681726, 0.513347022587269, 0.5989048596851472, 0.513347022587269, 0.513347022587269, 0.513347022587269, 0.513347022587269, 0.513347022587269, 0.513347022587269, 0.513347022587269, 1.1978097193702943, 1.2063655030800822, 1.2833675564681726, 1.2833675564681726, 1.2833675564681726, 1.2833675564681726, 1.2833675564681726, 1.2063655030800822, 1.2833675564681726]\n",
      "Number of cells: 2\n",
      "Ground truth pressure [0.0064792295408829, 0.0321295272870235]\n",
      "old cells\n",
      "[0, 1]\n",
      "new cells\n",
      "[0, 1]\n",
      "[0, 1]\n",
      "guess is [0.8500284003032268, 0.8569190359686183, 0.8459378340217151, 0.8536619459931644, 0.8427644579784104, 0.847469728953367, 0.8534034346819603, 0.4474271713239126, 0.3815187253306009, 0.4255858854459754, 0.42398116797129604, 0.3821184776802792, 0.44452666078711245, 0.4315546347574471, 0.42308363703607166, 0.3789042712965447, 0.8170275747706408, 0.7719754987492337, 0.7316923408198487, 0.7303684617951526, 0.7375842052973208, 0.7342156118684129, 0.7460711605011962, 0.7360011303551389, 0.7407643235356568]\n",
      "Function value 0.09668101311302708\n",
      "Solution [0.90514156 0.91687494 0.88714148 0.89764928 0.87775656 0.88510768\n",
      " 0.89365481 0.3891336  0.3028428  0.37038632 0.43176938 0.31505629\n",
      " 0.37679561 0.40431655 0.39322064 0.35868176 0.76922009 0.77318328\n",
      " 0.72306465 0.72660232 0.72283741 0.71745542 0.73785059 0.72720564\n",
      " 0.71862753]\n",
      "\n",
      "\n",
      "-----------------------------\n",
      "all same\n",
      "guess pressure is [0.03869394963854681, 0.03869394963854681]\n",
      "Function value 4.3452137412501704e-20\n",
      "Solution [0.02333028 0.05405761]\n",
      "\n",
      "\n",
      "-----------------------------\n",
      "Next colony number 5\n",
      "Number now is 0.3\n",
      "node a = node b, possible topological change\n",
      "Number of fit edges: 24\n",
      "Length of cpresses 1 2\n",
      "ground_truth [1.361315938740783, 1.361315938740783, 1.361315938740783, 1.361315938740783, 1.361315938740783, 1.361315938740783, 1.361315938740783, 0.40839478162223486, 0.5142749101909624, 0.40839478162223486, 0.40839478162223486, 0.40839478162223486, 0.40839478162223486, 0.40839478162223486, 0.40839478162223486, 0.40839478162223486, 1.2554358101720555, 1.361315938740783, 1.361315938740783, 1.361315938740783, 1.361315938740783, 1.361315938740783, 1.2660238230289282, 1.361315938740783]\n",
      "Number of cells: 2\n",
      "Ground truth pressure [0.00985887813545829, nan]\n",
      "old cells\n",
      "[0, 1]\n",
      "new cells\n",
      "[0, 1]\n",
      "[0, 1]\n",
      "guess is [0.9051415555085177, 0.916874936825527, 0.8871414773392535, 0.8976492813123199, 0.8777565610846902, 0.8851076779679631, 0.89365480985774, 0.3891336031968155, 0.30284279575716816, 0.370386315136961, 0.4317693822256744, 0.3150562861517627, 0.3767956141090548, 0.4043165473804603, 0.39322063659743695, 0.3586817606942996, 0.7692200865768455, 0.7230646528639222, 0.7266023239567934, 0.7228374133970102, 0.7174554219532625, 0.7378505921588946, 0.7272056432220956, 0.7186275325105757]\n"
     ]
    },
    {
     "name": "stdout",
     "output_type": "stream",
     "text": [
      "Function value 0.418370217663492\n",
      "Solution [0.9183655  0.92742972 0.90044732 0.90877618 0.8909668  0.90050645\n",
      " 0.91246908 0.31328212 0.23184658 0.29393656 0.47185488 0.24598092\n",
      " 0.40706956 0.35283763 0.40680646 0.32625697 0.75176246 0.7239027\n",
      " 0.73224852 0.71977391 0.71261923 0.73831314 0.7247458  0.71660911]\n",
      "\n",
      "\n",
      "-----------------------------\n",
      "all same\n",
      "guess pressure is [0.054057614919383254, 0.054057614919383254]\n",
      "Function value 3.5208056384912836e-20\n",
      "Solution [0.03621525 0.07189997]\n",
      "\n",
      "\n",
      "-----------------------------\n",
      "Next colony number 6\n"
     ]
    }
   ],
   "source": [
    "# %%prun\n",
    "colonies = SurfaceEvolverInstance.computation_based_on_prev_surface_evolver(timepoints, colonies = None, index = None, \n",
    "                                          old_dictionary = None, maxiter = 60*1000, solver = 'DLITE')"
   ]
  },
  {
   "cell_type": "markdown",
   "metadata": {},
   "source": [
    "Now we have 7 colony classes for each time point"
   ]
  },
  {
   "cell_type": "code",
   "execution_count": 7,
   "metadata": {},
   "outputs": [
    {
     "data": {
      "text/plain": [
       "{'0': <DLITE.cell_describe.colony at 0x11d22ef98>,\n",
       " '1': <DLITE.cell_describe.colony at 0x11d2222e8>,\n",
       " '2': <DLITE.cell_describe.colony at 0x11f2c9ef0>,\n",
       " '3': <DLITE.cell_describe.colony at 0x11f301ef0>,\n",
       " '4': <DLITE.cell_describe.colony at 0x11f339f28>,\n",
       " '5': <DLITE.cell_describe.colony at 0x11f36ff60>,\n",
       " '6': <DLITE.cell_describe.colony at 0x11f388ef0>}"
      ]
     },
     "execution_count": 7,
     "metadata": {},
     "output_type": "execute_result"
    }
   ],
   "source": [
    "colonies"
   ]
  },
  {
   "cell_type": "markdown",
   "metadata": {},
   "source": [
    "# Post processing"
   ]
  },
  {
   "cell_type": "markdown",
   "metadata": {},
   "source": [
    "We want to store all the information contained in colonies. We do this in 4 dataframes\n",
    "\n",
    "nodes_dataframe has node related information like tension residuals, numbers of connected edges, average curvature of connected edges etc. \n",
    "\n",
    "edges_dataframe has edge related information like edge tension, stochasticity in tension, edge curvature etc. \n",
    "\n",
    "cells_dataframe has cell related information like cell pressure, area, perimeter etc. "
   ]
  },
  {
   "cell_type": "code",
   "execution_count": 8,
   "metadata": {},
   "outputs": [],
   "source": [
    "PlottingFunctionsInstance = PlottingFunctions()"
   ]
  },
  {
   "cell_type": "code",
   "execution_count": 9,
   "metadata": {},
   "outputs": [],
   "source": [
    "# We first find labels of edges that are present in all the colonies\n",
    "\n",
    "common_edge_labels = PlottingFunctionsInstance.get_repeat_edge(colonies)\n",
    "common_cell_labels = PlottingFunctionsInstance.get_repeat_cell(colonies)"
   ]
  },
  {
   "cell_type": "code",
   "execution_count": 10,
   "metadata": {},
   "outputs": [],
   "source": [
    "#Make the dataframes\n",
    "\n",
    "edges_dataframe, cells_dataframe = PlottingFunctionsInstance.seaborn_plot(None, colonies,\n",
    "                                                                                  common_edge_labels,\n",
    "                                                                                  common_cell_labels,\n",
    "                                                                                  ground_truth = True)\n",
    "nodes_dataframe = PlottingFunctionsInstance.seaborn_nodes_dataframe(colonies, None)\n"
   ]
  },
  {
   "cell_type": "markdown",
   "metadata": {},
   "source": [
    "## Heatmaps"
   ]
  },
  {
   "cell_type": "markdown",
   "metadata": {},
   "source": [
    "Since we are doing SurfaceEvolver simulations, we know the ground truth. So we can plot them side by side"
   ]
  },
  {
   "cell_type": "code",
   "execution_count": 11,
   "metadata": {},
   "outputs": [],
   "source": [
    "tension_table = edges_dataframe.pivot_table(\n",
    "        values='Local_normalized_tensions', \n",
    "        index=['Edge_Labels'], \n",
    "        columns='Time')\n",
    "\n",
    "ground_truth_tension_table = edges_dataframe.pivot_table(\n",
    "        values='Ground_truth', \n",
    "        index=['Edge_Labels'], \n",
    "        columns='Time')"
   ]
  },
  {
   "cell_type": "code",
   "execution_count": 12,
   "metadata": {},
   "outputs": [
    {
     "data": {
      "image/png": "[encoded data removed]",
      "text/plain": [
       "<Figure size 576x720 with 3 Axes>"
      ]
     },
     "metadata": {
      "needs_background": "light"
     },
     "output_type": "display_data"
    }
   ],
   "source": [
    "sns.set_context('poster')\n",
    "%matplotlib inline\n",
    "fig, axn = plt.subplots(1, 2, figsize = (8,10),sharey=True)\n",
    "cbar_ax = fig.add_axes([1.1, .15, .01, .7], title = 'Tension')\n",
    "\n",
    "for i, ax in enumerate(axn.flat):\n",
    "    if i == 0:\n",
    "        df = ground_truth_tension_table\n",
    "        title = 'Ground_truth'\n",
    "    elif i == 1:\n",
    "        df = tension_table\n",
    "        title = 'DLITE'\n",
    "    ax.set_title(title)\n",
    "    sns.heatmap(df, ax=ax,\n",
    "                cbar=i == 0, vmin=0, vmax=3, cmap = 'jet',\n",
    "                cbar_ax=None if i else cbar_ax)"
   ]
  },
  {
   "cell_type": "markdown",
   "metadata": {},
   "source": [
    "## Colony colormaps"
   ]
  },
  {
   "cell_type": "code",
   "execution_count": 13,
   "metadata": {},
   "outputs": [
    {
     "data": {
      "image/png": "[encoded data removed]",
      "text/plain": [
       "<Figure size 1440x1440 with 5 Axes>"
      ]
     },
     "metadata": {},
     "output_type": "display_data"
    }
   ],
   "source": [
    "# Plot \n",
    "import pylab\n",
    "import matplotlib.pyplot as plt\n",
    "\n",
    "\n",
    "sns.set(style=\"white\")\n",
    "sns.set_context(\"paper\", font_scale = 2.5)\n",
    "\n",
    "total = 5\n",
    "fig, axn = plt.subplots(1, total, figsize = (20,20),sharey=True)\n",
    "nums= [0,1,2,3,4]\n",
    "\n",
    "for i, ax in enumerate(axn.flat):\n",
    "    col = colonies[str(nums[i])]\n",
    "    tensions = [e.tension for e in col.tot_edges]\n",
    "    mean_ten = np.mean(tensions)\n",
    "    tensions = [e/mean_ten for e in tensions]\n",
    "\n",
    "    col.plot_tensions(ax, fig, tensions, min_x=450, max_x=550, min_y=430, max_y=550, \n",
    "                      min_ten = 0, max_ten = 3, specify_color = 'jet',cbar = 'no', lw = 3)\n",
    "    plt.setp(ax.get_yticklabels(), visible=False)\n",
    "    plt.setp(ax.get_xticklabels(), visible=False)\n",
    "    ax.set(xlim = [450,550], ylim = [430,540], aspect = 1)\n",
    "\n",
    "# pylab.savefig('geometry.pdf', bbox_inches = 'tight')\n",
    "# pylab.savefig('geometry.svg', bbox_inches = 'tight')"
   ]
  },
  {
   "cell_type": "markdown",
   "metadata": {},
   "source": [
    "## Tension movies"
   ]
  },
  {
   "cell_type": "code",
   "execution_count": 15,
   "metadata": {},
   "outputs": [],
   "source": [
    "sns.set(style=\"darkgrid\")\n",
    "sns.set_context(\"talk\", font_scale=0.75)\n",
    "\n",
    "fig, ax = plt.subplots(1,1, figsize = (6,4))\n",
    "ManualTracingMultipleInstance.plot_tensions(fig, ax, colonies,min_x=450, max_x=550, min_y=430, max_y=550, \n",
    "                                            min_ten=0,max_ten=3, specify_aspect=None,specify_color='jet' ,\n",
    "                                            type=None, lw = 2)"
   ]
  },
  {
   "cell_type": "code",
   "execution_count": null,
   "metadata": {},
   "outputs": [],
   "source": []
  }
 ],
 "metadata": {
  "kernelspec": {
   "display_name": "Python 3",
   "language": "python",
   "name": "python3"
  },
  "language_info": {
   "codemirror_mode": {
    "name": "ipython",
    "version": 3
   },
   "file_extension": ".py",
   "mimetype": "text/x-python",
   "name": "python",
   "nbconvert_exporter": "python",
   "pygments_lexer": "ipython3",
   "version": "3.7.3"
  }
 },
 "nbformat": 4,
 "nbformat_minor": 2
}
