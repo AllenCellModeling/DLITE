{
 "cells": [
  {
   "cell_type": "code",
   "execution_count": 1,
   "metadata": {},
   "outputs": [],
   "source": [
    "import pandas as pd\n",
    "import seaborn as sns\n",
    "import numpy as np\n",
    "import pickle\n",
    "import os\n",
    "import sys\n",
    "import pylab\n",
    "import matplotlib.pyplot as plt"
   ]
  },
  {
   "cell_type": "markdown",
   "metadata": {},
   "source": [
    "Lets import DLITE classes. "
   ]
  },
  {
   "cell_type": "code",
   "execution_count": 2,
   "metadata": {},
   "outputs": [],
   "source": [
    "from DLITE.cell_describe import node, edge, cell, colony\n",
    "from DLITE.ManualTracingMultiple import ManualTracingMultiple\n",
    "from DLITE.SurfaceEvolver import SurfaceEvolver\n",
    "from DLITE.PlottingFunctions import PlottingFunctions"
   ]
  },
  {
   "cell_type": "markdown",
   "metadata": {},
   "source": [
    "Now, we load the data. Data is stored as .txt files"
   ]
  },
  {
   "cell_type": "markdown",
   "metadata": {},
   "source": [
    "# Figure 2 data"
   ]
  },
  {
   "cell_type": "markdown",
   "metadata": {},
   "source": [
    "Use this if you want to load Figure 2 data. Else comment out"
   ]
  },
  {
   "cell_type": "code",
   "execution_count": 3,
   "metadata": {},
   "outputs": [],
   "source": [
    "# os.chdir(r'../Notebooks/data/Synthetic_data/Fig_2')\n",
    "# timepoints = [int(i) for i in np.linspace(1, 8, 8)]\n",
    "# name_first = 'surface_dec_edge_groups_80_150_numbers_'\n",
    "# name_end = '.fe.txt'"
   ]
  },
  {
   "cell_type": "markdown",
   "metadata": {},
   "source": [
    "# Figure 3 data"
   ]
  },
  {
   "cell_type": "markdown",
   "metadata": {},
   "source": [
    "Use this if you want to load Figure 3 data. Else comment out"
   ]
  },
  {
   "cell_type": "code",
   "execution_count": 4,
   "metadata": {},
   "outputs": [],
   "source": [
    "# os.chdir(r'../Notebooks/data/Synthetic_data/Fig_3')\n",
    "# timepoints = [int(i)/10 for i in np.linspace(19, 11, 9)]\n",
    "# name_first = 'voronoi_medium_edges_50_100_tension_'\n",
    "# name_end = '.fe.txt'"
   ]
  },
  {
   "cell_type": "markdown",
   "metadata": {},
   "source": [
    "# Figure 5 data"
   ]
  },
  {
   "cell_type": "markdown",
   "metadata": {},
   "source": [
    "Use this if you want to load Figure 5 data. Else comment out"
   ]
  },
  {
   "cell_type": "code",
   "execution_count": 5,
   "metadata": {},
   "outputs": [],
   "source": [
    "# os.chdir(r'../Notebooks/data/Synthetic_data/Fig_5')\n",
    "# timepoints = [int(i)/10 for i in np.linspace(10, 3, 7)]\n",
    "# name_first = 'voronoi_very_small_44_edges_tension_edges_20_30_'\n",
    "# name_end = '.fe.txt'"
   ]
  },
  {
   "cell_type": "markdown",
   "metadata": {},
   "source": [
    "# SOM example data"
   ]
  },
  {
   "cell_type": "markdown",
   "metadata": {},
   "source": [
    "Use this if you want to load Example 1 of SOM data. Else comment out"
   ]
  },
  {
   "cell_type": "code",
   "execution_count": 6,
   "metadata": {},
   "outputs": [],
   "source": [
    "# Example 1\n",
    "os.chdir(r'../Notebooks/data/Synthetic_data/SOM_example_1')\n",
    "timepoints = [int(i)/10 for i in np.linspace(10, 2, 9)]\n",
    "name_first = 'class_test_14_'\n",
    "name_end = '.fe.txt'"
   ]
  },
  {
   "cell_type": "markdown",
   "metadata": {},
   "source": [
    "Use this if you want to load Example 2 of SOM data. Else comment out"
   ]
  },
  {
   "cell_type": "code",
   "execution_count": 7,
   "metadata": {},
   "outputs": [],
   "source": [
    "# Example 2\n",
    "# os.chdir(r'../Notebooks/data/Synthetic_data/Fig_3')\n",
    "# timepoints = [int(i)/10 for i in np.linspace(19, 11, 9)]\n",
    "# name_first = 'voronoi_medium_3_edges_200_300_tension_'\n",
    "# name_end = '.fe.txt'"
   ]
  },
  {
   "cell_type": "code",
   "execution_count": 8,
   "metadata": {},
   "outputs": [],
   "source": [
    "SurfaceEvolverInstance = SurfaceEvolver(name_first, name_end)"
   ]
  },
  {
   "cell_type": "code",
   "execution_count": 9,
   "metadata": {
    "scrolled": true
   },
   "outputs": [
    {
     "name": "stdout",
     "output_type": "stream",
     "text": [
      "Name is class_test_14_1.0.fe.txt\n",
      "Number of fit edges: 35\n",
      "Length of cpresses 6 6\n",
      "ground_truth [1.0, 1.0, 1.0, 1.0, 1.0, 1.0, 1.0, 1.0, 1.0, 1.0, 1.0, 1.0, 1.0, 1.0, 1.0, 1.0, 1.0, 1.0, 1.0, 1.0, 1.0, 1.0, 1.0, 1.0, 1.0, 1.0, 1.0, 1.0, 1.0, 1.0, 1.0, 1.0, 1.0, 1.0, 1.0]\n",
      "Number of cells: 6\n",
      "Ground truth pressure [0.0419747944520204, 0.0521485329483875, 0.0557761390258861, 0.0556648478196424, 0.04894386014595, 0.041556170197683]\n",
      "Solver is CellFIT\n",
      "First colony {'0': <DLITE.cell_describe.colony object at 0x11df38f98>}\n",
      "Number now is 0.9\n",
      "Number of fit edges: 35\n",
      "Length of cpresses 6 6\n",
      "ground_truth [1.017146178436501, 1.017146178436501, 1.017146178436501, 1.017146178436501, 1.017146178436501, 1.017146178436501, 1.017146178436501, 1.017146178436501, 1.017146178436501, 1.017146178436501, 1.017146178436501, 1.017146178436501, 1.017146178436501, 1.017146178436501, 1.017146178436501, 1.017146178436501, 1.017146178436501, 1.017146178436501, 1.017146178436501, 1.017146178436501, 1.017146178436501, 1.017146178436501, 1.017146178436501, 1.017146178436501, 1.017146178436501, 1.017146178436501, 1.017146178436501, 0.935774484161581, 0.9154315605928508, 0.9154315605928509, 0.9154315605928508, 0.9154315605928508, 0.9154315605928508, 1.017146178436501, 1.006974716652136]\n",
      "Number of cells: 6\n",
      "Ground truth pressure [0.042057524587442, 0.0523953686974211, 0.0557242519042293, 0.0567088347588616, 0.0488975833012728, 0.0406511785565308]\n",
      "old cells\n",
      "[0, 1, 2, 3, 4, 5]\n",
      "new cells\n",
      "[0, 1, 2, 3, 4, 5]\n",
      "[0, 1, 2, 3, 4, 5]\n",
      "Next colony number 1\n",
      "Number now is 0.8\n",
      "Number of fit edges: 35\n",
      "Length of cpresses 6 6\n",
      "ground_truth [1.0348905972797162, 1.0348905972797162, 1.0348905972797162, 1.0348905972797162, 1.0348905972797162, 1.0348905972797162, 1.0348905972797162, 1.0348905972797162, 1.0348905972797162, 1.0348905972797162, 1.0348905972797162, 1.0348905972797162, 1.0348905972797162, 1.0348905972797162, 1.0348905972797162, 1.0348905972797162, 1.0348905972797162, 1.0348905972797162, 1.0348905972797162, 1.0348905972797162, 1.0348905972797162, 1.0348905972797162, 1.0348905972797162, 1.0348905972797162, 1.0348905972797162, 1.0348905972797162, 1.0348905972797162, 0.8693081017149616, 0.827912477823773, 0.827912477823773, 0.827912477823773, 0.827912477823773, 0.827912477823773, 1.0348905972797162, 1.014192785334122]\n",
      "Number of cells: 6\n",
      "Ground truth pressure [0.0420486539958199, 0.0525976342684188, 0.0556131490358099, 0.0576712119576791, 0.0487568612309816, 0.0395276193499516]\n",
      "old cells\n",
      "[0, 1, 2, 3, 4, 5]\n",
      "new cells\n",
      "[0, 1, 2, 3, 4, 5]\n",
      "[0, 1, 2, 3, 4, 5]\n",
      "Next colony number 2\n",
      "Number now is 0.7\n",
      "Number of fit edges: 35\n",
      "Length of cpresses 6 6\n",
      "ground_truth [1.053265121877821, 1.053265121877821, 1.053265121877821, 1.053265121877821, 1.053265121877821, 1.053265121877821, 1.053265121877821, 1.053265121877821, 1.053265121877821, 1.053265121877821, 1.053265121877821, 1.053265121877821, 1.053265121877821, 1.053265121877821, 1.053265121877821, 1.053265121877821, 1.053265121877821, 1.053265121877821, 1.053265121877821, 1.053265121877821, 1.053265121877821, 1.053265121877821, 1.053265121877821, 1.053265121877821, 1.053265121877821, 1.053265121877821, 1.053265121877821, 0.8004814926271441, 0.7372855853144747, 0.7372855853144747, 0.7372855853144747, 0.7372855853144747, 0.7372855853144747, 1.053265121877821, 1.0216671682214864]\n",
      "Number of cells: 6\n",
      "Ground truth pressure [0.0417111848003999, 0.0521106121447586, 0.055244383847156, 0.0590324063330001, 0.0484008778719317, 0.0381168665716974]\n",
      "old cells\n",
      "[0, 1, 2, 3, 4, 5]\n",
      "new cells\n",
      "[0, 1, 2, 3, 4, 5]\n",
      "[0, 1, 2, 3, 4, 5]\n",
      "Next colony number 3\n",
      "Number now is 0.6\n",
      "Number of fit edges: 35\n",
      "Length of cpresses 6 6\n",
      "ground_truth [1.0723039215686274, 1.0723039215686274, 1.0723039215686274, 1.0723039215686274, 1.0723039215686274, 1.0723039215686274, 1.0723039215686274, 1.0723039215686274, 1.0723039215686274, 1.0723039215686274, 1.0723039215686274, 1.0723039215686274, 1.0723039215686274, 1.0723039215686274, 1.0723039215686274, 1.0723039215686274, 1.0723039215686274, 1.0723039215686274, 1.0723039215686274, 1.0723039215686274, 1.0723039215686274, 1.0723039215686274, 1.0723039215686274, 1.0723039215686274, 1.0723039215686274, 1.0723039215686274, 1.0723039215686274, 0.7291666666666665, 0.6433823529411764, 0.6433823529411763, 0.6433823529411764, 0.6433823529411764, 0.6433823529411764, 1.0723039215686274, 1.0294117647058822]\n",
      "Number of cells: 6\n",
      "Ground truth pressure [0.0416242796529022, 0.0520920717629028, 0.0548560538580817, 0.0593255737683364, 0.0478904527980017, 0.0366137500420597]\n",
      "old cells\n",
      "[0, 1, 2, 3, 4, 5]\n",
      "new cells\n",
      "[0, 1, 2, 3, 4, 5]\n",
      "[0, 1, 2, 3, 4, 5]\n",
      "Next colony number 4\n",
      "Number now is 0.5\n",
      "Number of fit edges: 35\n",
      "Length of cpresses 6 6\n",
      "ground_truth [1.0920436817472698, 1.0920436817472698, 1.0920436817472698, 1.0920436817472698, 1.0920436817472698, 1.0920436817472698, 1.0920436817472698, 1.0920436817472698, 1.0920436817472698, 1.0920436817472698, 1.0920436817472698, 1.0920436817472698, 1.0920436817472698, 1.0920436817472698, 1.0920436817472698, 1.0920436817472698, 1.0920436817472698, 1.0920436817472698, 1.0920436817472698, 1.0920436817472698, 1.0920436817472698, 1.0920436817472698, 1.0920436817472698, 1.0920436817472698, 1.0920436817472698, 1.0920436817472698, 1.0920436817472698, 0.6552262090483618, 0.5460218408736349, 0.5460218408736349, 0.5460218408736349, 0.5460218408736349, 0.5460218408736349, 1.0920436817472698, 1.0374414976599062]\n",
      "Number of cells: 6\n",
      "Ground truth pressure [0.0395308794613693, 0.0499444005755367, 0.0506374855681716, 0.0581364589362121, 0.0436486561375872, 0.031222732696759]\n",
      "old cells\n",
      "[0, 1, 2, 3, 4, 5]\n",
      "new cells\n",
      "[0, 1, 2, 3, 4, 5]\n",
      "[0, 1, 2, 3, 4, 5]\n",
      "Next colony number 5\n",
      "Number now is 0.4\n",
      "Number of fit edges: 35\n",
      "Length of cpresses 6 6\n",
      "ground_truth [1.112523839796567, 1.112523839796567, 1.112523839796567, 1.112523839796567, 1.112523839796567, 1.112523839796567, 1.112523839796567, 1.112523839796567, 1.112523839796567, 1.112523839796567, 1.112523839796567, 1.112523839796567, 1.112523839796567, 1.112523839796567, 1.112523839796567, 1.112523839796567, 1.112523839796567, 1.112523839796567, 1.112523839796567, 1.112523839796567, 1.112523839796567, 1.112523839796567, 1.112523839796567, 1.112523839796567, 1.112523839796567, 1.112523839796567, 1.112523839796567, 0.578512396694215, 0.4450095359186269, 0.4450095359186269, 0.4450095359186269, 0.4450095359186269, 0.4450095359186269, 1.112523839796567, 1.0457724094087733]\n",
      "Number of cells: 6\n",
      "Ground truth pressure [0.038898983741726, 0.0494275154464801, 0.0515232966544282, 0.0583807017966536, 0.0441774428284108, 0.0305933850565895]\n",
      "old cells\n",
      "[0, 1, 2, 3, 4, 5]\n",
      "new cells\n",
      "[0, 1, 2, 3, 4, 5]\n",
      "[0, 1, 2, 3, 4, 5]\n",
      "Next colony number 6\n",
      "Number now is 0.3\n",
      "node a = node b, possible topological change\n",
      "Number of fit edges: 34\n",
      "Length of cpresses 6 6\n",
      "ground_truth [1.1356045424181695, 1.1356045424181695, 1.1356045424181695, 1.1356045424181695, 1.1356045424181695, 1.1356045424181695, 1.1356045424181695, 1.1356045424181695, 1.1356045424181695, 1.1356045424181695, 1.1356045424181695, 1.1356045424181695, 1.1356045424181695, 1.1356045424181695, 1.1356045424181695, 1.1356045424181695, 1.1356045424181695, 1.1356045424181695, 1.1356045424181695, 1.1356045424181695, 1.1356045424181695, 1.1356045424181695, 1.1356045424181695, 1.1356045424181695, 1.1356045424181695, 1.1356045424181695, 1.1356045424181695, 0.4996659986639946, 0.34068136272545085, 0.3406813627254508, 0.34068136272545085, 0.34068136272545085, 0.34068136272545085, 1.1356045424181695]\n",
      "Number of cells: 6\n",
      "Ground truth pressure [0.037163395103673, 0.0478666676583299, 0.0502870524519542, 0.0571642846123009, 0.042548520884571, 0.0277851479073085]\n",
      "old cells\n",
      "[0, 1, 2, 3, 4, 5]\n",
      "new cells\n",
      "[0, 1, 2, 3, 4, 5]\n",
      "[0, 1, 2, 3, 4, 5]\n",
      "Next colony number 7\n",
      "Number now is 0.2\n",
      "node a = node b, possible topological change\n",
      "Number of fit edges: 34\n",
      "Length of cpresses 6 6\n",
      "ground_truth [1.1580381471389647, 1.1580381471389647, 1.1580381471389647, 1.1580381471389647, 1.1580381471389647, 1.1580381471389647, 1.1580381471389647, 1.1580381471389647, 1.1580381471389647, 1.1580381471389647, 1.1580381471389647, 1.1580381471389647, 1.1580381471389647, 1.1580381471389647, 1.1580381471389647, 1.1580381471389647, 1.1580381471389647, 1.1580381471389647, 1.1580381471389647, 1.1580381471389647, 1.1580381471389647, 1.1580381471389647, 1.1580381471389647, 1.1580381471389647, 1.1580381471389647, 1.1580381471389647, 1.1580381471389647, 0.4168937329700273, 0.23160762942779292, 0.23160762942779292, 0.23160762942779292, 0.23160762942779292, 0.23160762942779292, 1.1580381471389647]\n",
      "Number of cells: 6\n",
      "Ground truth pressure [0.0354466878976734, 0.0462900393841335, 0.0496954715657167, 0.0561794528686523, 0.041644485888936, 0.0257477449012738]\n",
      "old cells\n",
      "[0, 1, 2, 3, 4, 5]\n",
      "new cells\n",
      "[0, 1, 2, 3, 4, 5]\n",
      "[0, 1, 2, 3, 4, 5]\n",
      "Next colony number 8\n"
     ]
    }
   ],
   "source": [
    "colonies = SurfaceEvolverInstance.computation_based_on_prev_surface_evolver(timepoints, cleanup_cutoff=0.1, \n",
    "                                                                            colonies = None, index = None, \n",
    "                                                                            old_dictionary = None, maxiter = 60*1000, \n",
    "                                                                            solver = 'CellFIT')"
   ]
  },
  {
   "cell_type": "code",
   "execution_count": null,
   "metadata": {
    "scrolled": true
   },
   "outputs": [
    {
     "name": "stdout",
     "output_type": "stream",
     "text": [
      "Name is class_test_14_1.0.fe.txt\n",
      "Number of fit edges: 35\n",
      "Length of cpresses 6 6\n",
      "ground_truth [1.0, 1.0, 1.0, 1.0, 1.0, 1.0, 1.0, 1.0, 1.0, 1.0, 1.0, 1.0, 1.0, 1.0, 1.0, 1.0, 1.0, 1.0, 1.0, 1.0, 1.0, 1.0, 1.0, 1.0, 1.0, 1.0, 1.0, 1.0, 1.0, 1.0, 1.0, 1.0, 1.0, 1.0, 1.0]\n",
      "Number of cells: 6\n",
      "Ground truth pressure [0.0419747944520204, 0.0521485329483875, 0.0557761390258861, 0.0556648478196424, 0.04894386014595, 0.041556170197683]\n",
      "guess is [0.58, 0.11, 0.89, 0.15, 0.04, 0.67, 0.16, 0.45, 0.57, 0.74, 0.65, 0.5, 0.89, 0.26, 0.86, 0.2, 0.72, 0.93, 0.17, 0.29, 0.53, 0.0, 0.43, 0.87, 0.57, 0.02, 0.54, 0.93, 0.17, 1.01, 0.46, 0.62, 0.06, 0.17, 0.5]\n",
      "Function value 0.12223841847209088\n",
      "Solution [0.60878338 0.62207571 0.62234248 0.52490455 0.60443445 0.60335165\n",
      " 0.62198834 0.61571798 0.61956493 0.6185258  0.61321588 0.5884564\n",
      " 0.61565215 0.64657512 0.61687646 0.61279048 0.61163947 0.61337121\n",
      " 0.61708    0.61046438 0.61592793 0.61459385 0.61040695 0.60329829\n",
      " 0.61364077 0.61234843 0.60932761 0.60960753 0.60312734 0.60045551\n",
      " 0.60274958 0.61648893 0.6043249  0.61016335 0.61155034]\n",
      "\n",
      "\n",
      "-----------------------------\n",
      "all same\n",
      "guess pressure is [0.005201444064257894, 0.005201444064257894, 0.005201444064257894, 0.005201444064257894, 0.005201444064257894, 0.005201444064257894]\n",
      "Function value 6.473140700538578e-06\n",
      "Solution [0.00222472 0.00780482 0.00786821 0.00650209 0.0047508  0.00205784]\n",
      "\n",
      "\n",
      "-----------------------------\n",
      "Solver is DLITE\n",
      "First colony {'0': <DLITE.cell_describe.colony object at 0x12208d128>}\n",
      "Number now is 0.9\n",
      "Number of fit edges: 35\n",
      "Length of cpresses 6 6\n",
      "ground_truth [1.017146178436501, 1.017146178436501, 1.017146178436501, 1.017146178436501, 1.017146178436501, 1.017146178436501, 1.017146178436501, 1.017146178436501, 1.017146178436501, 1.017146178436501, 1.017146178436501, 1.017146178436501, 1.017146178436501, 1.017146178436501, 1.017146178436501, 1.017146178436501, 1.017146178436501, 1.017146178436501, 1.017146178436501, 1.017146178436501, 1.017146178436501, 1.017146178436501, 1.017146178436501, 1.017146178436501, 1.017146178436501, 1.017146178436501, 1.017146178436501, 0.935774484161581, 0.9154315605928508, 0.9154315605928509, 0.9154315605928508, 0.9154315605928508, 0.9154315605928508, 1.017146178436501, 1.006974716652136]\n",
      "Number of cells: 6\n",
      "Ground truth pressure [0.042057524587442, 0.0523953686974211, 0.0557242519042293, 0.0567088347588616, 0.0488975833012728, 0.0406511785565308]\n",
      "old cells\n",
      "[0, 1, 2, 3, 4, 5]\n",
      "new cells\n",
      "[0, 1, 2, 3, 4, 5]\n",
      "[0, 1, 2, 3, 4, 5]\n",
      "guess is [0.6087833784295842, 0.6220757106068829, 0.6223424759773245, 0.5249045467259318, 0.604434451610717, 0.6033516504440712, 0.6219883393055466, 0.6157179762309488, 0.6195649313377395, 0.6185257959099963, 0.6132158785518378, 0.5884564018511467, 0.615652148249857, 0.6465751247670891, 0.6168764620389092, 0.6127904774604843, 0.6116394730199254, 0.6133712089273008, 0.6170800046640056, 0.6104643772324765, 0.6159279326711434, 0.6145938507288345, 0.6104069485587706, 0.6032982892262849, 0.6136407653879743, 0.6123484331338708, 0.6093276122623655, 0.609607528056229, 0.6031273411645832, 0.6004555103783834, 0.6027495752982565, 0.6164889261461327, 0.604324898567537, 0.6101633474205913, 0.6115503372892731]\n"
     ]
    }
   ],
   "source": [
    "colonies2 = SurfaceEvolverInstance.computation_based_on_prev_surface_evolver(timepoints, cleanup_cutoff=0.1, \n",
    "                                                                            colonies = None, index = None, \n",
    "                                                                            old_dictionary = None, maxiter = 60*1000, \n",
    "                                                                            solver = 'DLITE')"
   ]
  },
  {
   "cell_type": "code",
   "execution_count": 11,
   "metadata": {},
   "outputs": [],
   "source": [
    "PlottingFunctionsInstance = PlottingFunctions()"
   ]
  },
  {
   "cell_type": "code",
   "execution_count": 12,
   "metadata": {},
   "outputs": [],
   "source": [
    "# We first find labels of edges that are present in all the colonies\n",
    "common_edge_labels = PlottingFunctionsInstance.get_repeat_edge(colonies)\n",
    "common_cell_labels = PlottingFunctionsInstance.get_repeat_cell(colonies)"
   ]
  },
  {
   "cell_type": "code",
   "execution_count": 13,
   "metadata": {},
   "outputs": [],
   "source": [
    "# Make the dataframes\n",
    "edges_dataframe, cells_dataframe = PlottingFunctionsInstance.seaborn_plot(None, colonies,\n",
    "                                                                                  common_edge_labels,\n",
    "                                                                                  common_cell_labels,\n",
    "                                                                                  ground_truth = True)\n",
    "nodes_dataframe = PlottingFunctionsInstance.seaborn_nodes_dataframe(colonies, None)"
   ]
  },
  {
   "cell_type": "code",
   "execution_count": 14,
   "metadata": {},
   "outputs": [],
   "source": [
    "PlottingFunctionsInstance = PlottingFunctions()"
   ]
  },
  {
   "cell_type": "code",
   "execution_count": 15,
   "metadata": {},
   "outputs": [],
   "source": [
    "# We first find labels of edges that are present in all the colonies\n",
    "common_edge_labels2 = PlottingFunctionsInstance.get_repeat_edge(colonies2)\n",
    "common_cell_labels2 = PlottingFunctionsInstance.get_repeat_cell(colonies2)"
   ]
  },
  {
   "cell_type": "code",
   "execution_count": 16,
   "metadata": {},
   "outputs": [],
   "source": [
    "# Make the dataframes\n",
    "edges_dataframe2, cells_dataframe2 = PlottingFunctionsInstance.seaborn_plot(None, colonies2,\n",
    "                                                                                  common_edge_labels2,\n",
    "                                                                                  common_cell_labels2,\n",
    "                                                                                  ground_truth = True)\n",
    "nodes_dataframe2 = PlottingFunctionsInstance.seaborn_nodes_dataframe(colonies2, None)"
   ]
  },
  {
   "cell_type": "code",
   "execution_count": 17,
   "metadata": {},
   "outputs": [],
   "source": [
    "tension_table = edges_dataframe.pivot_table(\n",
    "        values='Local_normalized_tensions', \n",
    "        index=['Edge_Labels'], \n",
    "        columns='Time')\n",
    "\n",
    "tension_table2 = edges_dataframe2.pivot_table(\n",
    "        values='Local_normalized_tensions', \n",
    "        index=['Edge_Labels'], \n",
    "        columns='Time')\n",
    "\n",
    "ground_truth_tension_table = edges_dataframe.pivot_table(\n",
    "        values='Ground_truth', \n",
    "        index=['Edge_Labels'], \n",
    "        columns='Time')"
   ]
  },
  {
   "cell_type": "code",
   "execution_count": 18,
   "metadata": {},
   "outputs": [
    {
     "data": {
      "image/png": "[encoded data removed]",
      "text/plain": [
       "<Figure size 576x432 with 4 Axes>"
      ]
     },
     "metadata": {
      "needs_background": "light"
     },
     "output_type": "display_data"
    }
   ],
   "source": [
    "%matplotlib inline\n",
    "sns.set_context('poster')\n",
    "fig, axn = plt.subplots(1, 3, figsize = (8,6),sharey=True)\n",
    "cbar_ax = fig.add_axes([1.1, .15, .01, .7], title = 'Tension')\n",
    "\n",
    "for i, ax in enumerate(axn.flat):\n",
    "    if i == 0:\n",
    "        df = ground_truth_tension_table\n",
    "        title = 'Ground_truth'\n",
    "    elif i == 1:\n",
    "        df = tension_table\n",
    "        title = 'CellFIT'\n",
    "    elif i == 2:\n",
    "        df = tension_table2\n",
    "        title = 'DLITE'\n",
    "    ax.set_title(title)\n",
    "    sns.heatmap(df, ax=ax,\n",
    "                cbar=i == 0, vmin=0, vmax=3, cmap = 'jet',\n",
    "                cbar_ax=None if i else cbar_ax)\n",
    "pylab.savefig('heatmap.pdf', bbox_inches = 'tight')"
   ]
  },
  {
   "cell_type": "code",
   "execution_count": 19,
   "metadata": {},
   "outputs": [],
   "source": [
    "pressure_table = cells_dataframe.pivot_table(\n",
    "        values='Pressures', \n",
    "        index=['Cell_Labels'], \n",
    "        columns='Cell_Time')\n",
    "\n",
    "pressure_table2 = cells_dataframe2.pivot_table(\n",
    "        values='Pressures', \n",
    "        index=['Cell_Labels'], \n",
    "        columns='Cell_Time')\n",
    "\n",
    "ground_truth_pressure_table = cells_dataframe.pivot_table(\n",
    "        values='Ground_truth_pressure', \n",
    "        index=['Cell_Labels'], \n",
    "        columns='Cell_Time')"
   ]
  },
  {
   "cell_type": "code",
   "execution_count": 20,
   "metadata": {},
   "outputs": [
    {
     "data": {
      "image/png": "[encoded data removed]",
      "text/plain": [
       "<Figure size 576x432 with 4 Axes>"
      ]
     },
     "metadata": {
      "needs_background": "light"
     },
     "output_type": "display_data"
    }
   ],
   "source": [
    "sns.set_context('poster')\n",
    "fig, axn = plt.subplots(1, 3, figsize = (8,6),sharey=True)\n",
    "cbar_ax = fig.add_axes([1.1, .15, .01, .7], title = 'Pressure')\n",
    "\n",
    "for i, ax in enumerate(axn.flat):\n",
    "    if i == 0:\n",
    "        df = ground_truth_pressure_table\n",
    "        title = 'Ground_truth'\n",
    "    elif i == 1:\n",
    "        df = pressure_table\n",
    "        title = 'CellFIT'\n",
    "    elif i == 2:\n",
    "        df = pressure_table2\n",
    "        title = 'DLITE'\n",
    "    ax.set_title(title)\n",
    "    sns.heatmap(df, ax=ax,\n",
    "                cbar=i == 0, vmin=-1, vmax=1, cmap = 'jet',\n",
    "                cbar_ax=None if i else cbar_ax)\n",
    "pylab.savefig('heatmap.pdf', bbox_inches = 'tight')"
   ]
  },
  {
   "cell_type": "markdown",
   "metadata": {},
   "source": [
    "## Colony colormaps"
   ]
  },
  {
   "cell_type": "code",
   "execution_count": 21,
   "metadata": {},
   "outputs": [
    {
     "data": {
      "image/png": "[encoded data removed]",
      "text/plain": [
       "<Figure size 1440x1440 with 3 Axes>"
      ]
     },
     "metadata": {},
     "output_type": "display_data"
    }
   ],
   "source": [
    "# Plot\n",
    "%matplotlib inline\n",
    "import pylab\n",
    "import matplotlib.pyplot as plt\n",
    "\n",
    "\n",
    "sns.set(style=\"white\")\n",
    "sns.set_context(\"paper\", font_scale = 2.5)\n",
    "\n",
    "total = 5\n",
    "fig, axn = plt.subplots(1, total, figsize = (20,20),sharey=True)\n",
    "nums= [0,1, 2, 3, 4]\n",
    "\n",
    "for i, ax in enumerate(axn.flat):\n",
    "    col = colonies[str(nums[i])]\n",
    "    tensions = [e.tension for e in col.tot_edges]\n",
    "    mean_ten = np.mean(tensions)\n",
    "    tensions = [e/mean_ten for e in tensions]\n",
    "\n",
    "    col.plot_tensions(ax, fig, tensions, min_x=450, max_x=550, min_y=430, max_y=550, \n",
    "                      min_ten = 0, max_ten = 3, specify_color = 'jet',cbar = 'no', lw = 3)\n",
    "    plt.setp(ax.get_yticklabels(), visible=False)\n",
    "    plt.setp(ax.get_xticklabels(), visible=False)\n",
    "    ax.set(xlim = [450,550], ylim = [430,540], aspect = 1)"
   ]
  },
  {
   "cell_type": "code",
   "execution_count": null,
   "metadata": {},
   "outputs": [],
   "source": []
  }
 ],
 "metadata": {
  "kernelspec": {
   "display_name": "Python 3",
   "language": "python",
   "name": "python3"
  },
  "language_info": {
   "codemirror_mode": {
    "name": "ipython",
    "version": 3
   },
   "file_extension": ".py",
   "mimetype": "text/x-python",
   "name": "python",
   "nbconvert_exporter": "python",
   "pygments_lexer": "ipython3",
   "version": "3.7.3"
  }
 },
 "nbformat": 4,
 "nbformat_minor": 2
}
